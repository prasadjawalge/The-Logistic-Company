{
 "cells": [
  {
   "cell_type": "markdown",
   "id": "d08c60a2",
   "metadata": {},
   "source": [
    "## The Logistic Company (masked) - Feature Engineering"
   ]
  },
  {
   "cell_type": "markdown",
   "id": "fa81dc78",
   "metadata": {},
   "source": [
    "### About The Logistic Company (masked)"
   ]
  },
  {
   "cell_type": "markdown",
   "id": "5fea42ae",
   "metadata": {},
   "source": [
    "The Logistic Company is a fast-growing fully integrated player in India by revenue in Fiscal 2021. They aim to build the operating system for commerce, through a combination of world-class infrastructure, logistics operations of the highest quality, and cutting-edge engineering and technology capabilities.\n",
    "\n",
    "The Data team builds intelligence and capabilities using this data that helps them to widen the gap between the quality, efficiency, and profitability of their business versus their competitors."
   ]
  },
  {
   "cell_type": "markdown",
   "id": "1ef51c9b",
   "metadata": {},
   "source": [
    "### Problem statement"
   ]
  },
  {
   "cell_type": "markdown",
   "id": "f13a8d07",
   "metadata": {},
   "source": [
    "The company wants to understand and process the data coming out of data engineering pipelines:\n",
    "    \n",
    "- Clean, sanitize and manipulate data to get useful features out of raw fields\n",
    "- Make sense out of the raw data and help the data science team to build forecasting models on it"
   ]
  },
  {
   "cell_type": "code",
   "execution_count": 1,
   "id": "3d195707",
   "metadata": {},
   "outputs": [],
   "source": [
    "import numpy as np\n",
    "import pandas as pd\n",
    "import matplotlib.pyplot as plt\n",
    "import seaborn as sns"
   ]
  },
  {
   "cell_type": "code",
   "execution_count": 2,
   "id": "c06f2336",
   "metadata": {
    "scrolled": true
   },
   "outputs": [
    {
     "data": {
      "text/html": [
       "<div>\n",
       "<style scoped>\n",
       "    .dataframe tbody tr th:only-of-type {\n",
       "        vertical-align: middle;\n",
       "    }\n",
       "\n",
       "    .dataframe tbody tr th {\n",
       "        vertical-align: top;\n",
       "    }\n",
       "\n",
       "    .dataframe thead th {\n",
       "        text-align: right;\n",
       "    }\n",
       "</style>\n",
       "<table border=\"1\" class=\"dataframe\">\n",
       "  <thead>\n",
       "    <tr style=\"text-align: right;\">\n",
       "      <th></th>\n",
       "      <th>data</th>\n",
       "      <th>trip_creation_time</th>\n",
       "      <th>route_schedule_uuid</th>\n",
       "      <th>route_type</th>\n",
       "      <th>trip_uuid</th>\n",
       "      <th>source_center</th>\n",
       "      <th>source_name</th>\n",
       "      <th>destination_center</th>\n",
       "      <th>destination_name</th>\n",
       "      <th>od_start_time</th>\n",
       "      <th>od_end_time</th>\n",
       "      <th>start_scan_to_end_scan</th>\n",
       "      <th>is_cutoff</th>\n",
       "      <th>cutoff_factor</th>\n",
       "      <th>cutoff_timestamp</th>\n",
       "      <th>actual_distance_to_destination</th>\n",
       "      <th>actual_time</th>\n",
       "      <th>osrm_time</th>\n",
       "      <th>osrm_distance</th>\n",
       "      <th>factor</th>\n",
       "      <th>segment_actual_time</th>\n",
       "      <th>segment_osrm_time</th>\n",
       "      <th>segment_osrm_distance</th>\n",
       "      <th>segment_factor</th>\n",
       "    </tr>\n",
       "  </thead>\n",
       "  <tbody>\n",
       "    <tr>\n",
       "      <th>0</th>\n",
       "      <td>training</td>\n",
       "      <td>2018-09-20 02:35:36.476840</td>\n",
       "      <td>thanos::sroute:eb7bfc78-b351-4c0e-a951-fa3d5c3...</td>\n",
       "      <td>Carting</td>\n",
       "      <td>trip-153741093647649320</td>\n",
       "      <td>IND388121AAA</td>\n",
       "      <td>Anand_VUNagar_DC (Gujarat)</td>\n",
       "      <td>IND388620AAB</td>\n",
       "      <td>Khambhat_MotvdDPP_D (Gujarat)</td>\n",
       "      <td>2018-09-20 03:21:32.418600</td>\n",
       "      <td>2018-09-20 04:47:45.236797</td>\n",
       "      <td>86.0</td>\n",
       "      <td>True</td>\n",
       "      <td>9</td>\n",
       "      <td>2018-09-20 04:27:55</td>\n",
       "      <td>10.435660</td>\n",
       "      <td>14.0</td>\n",
       "      <td>11.0</td>\n",
       "      <td>11.9653</td>\n",
       "      <td>1.272727</td>\n",
       "      <td>14.0</td>\n",
       "      <td>11.0</td>\n",
       "      <td>11.9653</td>\n",
       "      <td>1.272727</td>\n",
       "    </tr>\n",
       "    <tr>\n",
       "      <th>1</th>\n",
       "      <td>training</td>\n",
       "      <td>2018-09-20 02:35:36.476840</td>\n",
       "      <td>thanos::sroute:eb7bfc78-b351-4c0e-a951-fa3d5c3...</td>\n",
       "      <td>Carting</td>\n",
       "      <td>trip-153741093647649320</td>\n",
       "      <td>IND388121AAA</td>\n",
       "      <td>Anand_VUNagar_DC (Gujarat)</td>\n",
       "      <td>IND388620AAB</td>\n",
       "      <td>Khambhat_MotvdDPP_D (Gujarat)</td>\n",
       "      <td>2018-09-20 03:21:32.418600</td>\n",
       "      <td>2018-09-20 04:47:45.236797</td>\n",
       "      <td>86.0</td>\n",
       "      <td>True</td>\n",
       "      <td>18</td>\n",
       "      <td>2018-09-20 04:17:55</td>\n",
       "      <td>18.936842</td>\n",
       "      <td>24.0</td>\n",
       "      <td>20.0</td>\n",
       "      <td>21.7243</td>\n",
       "      <td>1.200000</td>\n",
       "      <td>10.0</td>\n",
       "      <td>9.0</td>\n",
       "      <td>9.7590</td>\n",
       "      <td>1.111111</td>\n",
       "    </tr>\n",
       "    <tr>\n",
       "      <th>2</th>\n",
       "      <td>training</td>\n",
       "      <td>2018-09-20 02:35:36.476840</td>\n",
       "      <td>thanos::sroute:eb7bfc78-b351-4c0e-a951-fa3d5c3...</td>\n",
       "      <td>Carting</td>\n",
       "      <td>trip-153741093647649320</td>\n",
       "      <td>IND388121AAA</td>\n",
       "      <td>Anand_VUNagar_DC (Gujarat)</td>\n",
       "      <td>IND388620AAB</td>\n",
       "      <td>Khambhat_MotvdDPP_D (Gujarat)</td>\n",
       "      <td>2018-09-20 03:21:32.418600</td>\n",
       "      <td>2018-09-20 04:47:45.236797</td>\n",
       "      <td>86.0</td>\n",
       "      <td>True</td>\n",
       "      <td>27</td>\n",
       "      <td>2018-09-20 04:01:19.505586</td>\n",
       "      <td>27.637279</td>\n",
       "      <td>40.0</td>\n",
       "      <td>28.0</td>\n",
       "      <td>32.5395</td>\n",
       "      <td>1.428571</td>\n",
       "      <td>16.0</td>\n",
       "      <td>7.0</td>\n",
       "      <td>10.8152</td>\n",
       "      <td>2.285714</td>\n",
       "    </tr>\n",
       "    <tr>\n",
       "      <th>3</th>\n",
       "      <td>training</td>\n",
       "      <td>2018-09-20 02:35:36.476840</td>\n",
       "      <td>thanos::sroute:eb7bfc78-b351-4c0e-a951-fa3d5c3...</td>\n",
       "      <td>Carting</td>\n",
       "      <td>trip-153741093647649320</td>\n",
       "      <td>IND388121AAA</td>\n",
       "      <td>Anand_VUNagar_DC (Gujarat)</td>\n",
       "      <td>IND388620AAB</td>\n",
       "      <td>Khambhat_MotvdDPP_D (Gujarat)</td>\n",
       "      <td>2018-09-20 03:21:32.418600</td>\n",
       "      <td>2018-09-20 04:47:45.236797</td>\n",
       "      <td>86.0</td>\n",
       "      <td>True</td>\n",
       "      <td>36</td>\n",
       "      <td>2018-09-20 03:39:57</td>\n",
       "      <td>36.118028</td>\n",
       "      <td>62.0</td>\n",
       "      <td>40.0</td>\n",
       "      <td>45.5620</td>\n",
       "      <td>1.550000</td>\n",
       "      <td>21.0</td>\n",
       "      <td>12.0</td>\n",
       "      <td>13.0224</td>\n",
       "      <td>1.750000</td>\n",
       "    </tr>\n",
       "    <tr>\n",
       "      <th>4</th>\n",
       "      <td>training</td>\n",
       "      <td>2018-09-20 02:35:36.476840</td>\n",
       "      <td>thanos::sroute:eb7bfc78-b351-4c0e-a951-fa3d5c3...</td>\n",
       "      <td>Carting</td>\n",
       "      <td>trip-153741093647649320</td>\n",
       "      <td>IND388121AAA</td>\n",
       "      <td>Anand_VUNagar_DC (Gujarat)</td>\n",
       "      <td>IND388620AAB</td>\n",
       "      <td>Khambhat_MotvdDPP_D (Gujarat)</td>\n",
       "      <td>2018-09-20 03:21:32.418600</td>\n",
       "      <td>2018-09-20 04:47:45.236797</td>\n",
       "      <td>86.0</td>\n",
       "      <td>False</td>\n",
       "      <td>39</td>\n",
       "      <td>2018-09-20 03:33:55</td>\n",
       "      <td>39.386040</td>\n",
       "      <td>68.0</td>\n",
       "      <td>44.0</td>\n",
       "      <td>54.2181</td>\n",
       "      <td>1.545455</td>\n",
       "      <td>6.0</td>\n",
       "      <td>5.0</td>\n",
       "      <td>3.9153</td>\n",
       "      <td>1.200000</td>\n",
       "    </tr>\n",
       "  </tbody>\n",
       "</table>\n",
       "</div>"
      ],
      "text/plain": [
       "       data          trip_creation_time  \\\n",
       "0  training  2018-09-20 02:35:36.476840   \n",
       "1  training  2018-09-20 02:35:36.476840   \n",
       "2  training  2018-09-20 02:35:36.476840   \n",
       "3  training  2018-09-20 02:35:36.476840   \n",
       "4  training  2018-09-20 02:35:36.476840   \n",
       "\n",
       "                                 route_schedule_uuid route_type  \\\n",
       "0  thanos::sroute:eb7bfc78-b351-4c0e-a951-fa3d5c3...    Carting   \n",
       "1  thanos::sroute:eb7bfc78-b351-4c0e-a951-fa3d5c3...    Carting   \n",
       "2  thanos::sroute:eb7bfc78-b351-4c0e-a951-fa3d5c3...    Carting   \n",
       "3  thanos::sroute:eb7bfc78-b351-4c0e-a951-fa3d5c3...    Carting   \n",
       "4  thanos::sroute:eb7bfc78-b351-4c0e-a951-fa3d5c3...    Carting   \n",
       "\n",
       "                 trip_uuid source_center                 source_name  \\\n",
       "0  trip-153741093647649320  IND388121AAA  Anand_VUNagar_DC (Gujarat)   \n",
       "1  trip-153741093647649320  IND388121AAA  Anand_VUNagar_DC (Gujarat)   \n",
       "2  trip-153741093647649320  IND388121AAA  Anand_VUNagar_DC (Gujarat)   \n",
       "3  trip-153741093647649320  IND388121AAA  Anand_VUNagar_DC (Gujarat)   \n",
       "4  trip-153741093647649320  IND388121AAA  Anand_VUNagar_DC (Gujarat)   \n",
       "\n",
       "  destination_center               destination_name  \\\n",
       "0       IND388620AAB  Khambhat_MotvdDPP_D (Gujarat)   \n",
       "1       IND388620AAB  Khambhat_MotvdDPP_D (Gujarat)   \n",
       "2       IND388620AAB  Khambhat_MotvdDPP_D (Gujarat)   \n",
       "3       IND388620AAB  Khambhat_MotvdDPP_D (Gujarat)   \n",
       "4       IND388620AAB  Khambhat_MotvdDPP_D (Gujarat)   \n",
       "\n",
       "                od_start_time                 od_end_time  \\\n",
       "0  2018-09-20 03:21:32.418600  2018-09-20 04:47:45.236797   \n",
       "1  2018-09-20 03:21:32.418600  2018-09-20 04:47:45.236797   \n",
       "2  2018-09-20 03:21:32.418600  2018-09-20 04:47:45.236797   \n",
       "3  2018-09-20 03:21:32.418600  2018-09-20 04:47:45.236797   \n",
       "4  2018-09-20 03:21:32.418600  2018-09-20 04:47:45.236797   \n",
       "\n",
       "   start_scan_to_end_scan  is_cutoff  cutoff_factor  \\\n",
       "0                    86.0       True              9   \n",
       "1                    86.0       True             18   \n",
       "2                    86.0       True             27   \n",
       "3                    86.0       True             36   \n",
       "4                    86.0      False             39   \n",
       "\n",
       "             cutoff_timestamp  actual_distance_to_destination  actual_time  \\\n",
       "0         2018-09-20 04:27:55                       10.435660         14.0   \n",
       "1         2018-09-20 04:17:55                       18.936842         24.0   \n",
       "2  2018-09-20 04:01:19.505586                       27.637279         40.0   \n",
       "3         2018-09-20 03:39:57                       36.118028         62.0   \n",
       "4         2018-09-20 03:33:55                       39.386040         68.0   \n",
       "\n",
       "   osrm_time  osrm_distance    factor  segment_actual_time  segment_osrm_time  \\\n",
       "0       11.0        11.9653  1.272727                 14.0               11.0   \n",
       "1       20.0        21.7243  1.200000                 10.0                9.0   \n",
       "2       28.0        32.5395  1.428571                 16.0                7.0   \n",
       "3       40.0        45.5620  1.550000                 21.0               12.0   \n",
       "4       44.0        54.2181  1.545455                  6.0                5.0   \n",
       "\n",
       "   segment_osrm_distance  segment_factor  \n",
       "0                11.9653        1.272727  \n",
       "1                 9.7590        1.111111  \n",
       "2                10.8152        2.285714  \n",
       "3                13.0224        1.750000  \n",
       "4                 3.9153        1.200000  "
      ]
     },
     "execution_count": 2,
     "metadata": {},
     "output_type": "execute_result"
    }
   ],
   "source": [
    "df = pd.read_csv('The_Logistic_Company.csv')\n",
    "pd.set_option('display.max_columns', None)\n",
    "df.head()"
   ]
  },
  {
   "cell_type": "markdown",
   "id": "cd38cc39",
   "metadata": {},
   "source": [
    "### Basic data exploration"
   ]
  },
  {
   "cell_type": "code",
   "execution_count": 3,
   "id": "ab2fe2b3",
   "metadata": {},
   "outputs": [
    {
     "data": {
      "text/plain": [
       "(144867, 24)"
      ]
     },
     "execution_count": 3,
     "metadata": {},
     "output_type": "execute_result"
    }
   ],
   "source": [
    "# Structure of data(rows and columns)\n",
    "df.shape"
   ]
  },
  {
   "cell_type": "code",
   "execution_count": 4,
   "id": "d0674e26",
   "metadata": {},
   "outputs": [
    {
     "data": {
      "text/plain": [
       "Index(['data', 'trip_creation_time', 'route_schedule_uuid', 'route_type',\n",
       "       'trip_uuid', 'source_center', 'source_name', 'destination_center',\n",
       "       'destination_name', 'od_start_time', 'od_end_time',\n",
       "       'start_scan_to_end_scan', 'is_cutoff', 'cutoff_factor',\n",
       "       'cutoff_timestamp', 'actual_distance_to_destination', 'actual_time',\n",
       "       'osrm_time', 'osrm_distance', 'factor', 'segment_actual_time',\n",
       "       'segment_osrm_time', 'segment_osrm_distance', 'segment_factor'],\n",
       "      dtype='object')"
      ]
     },
     "execution_count": 4,
     "metadata": {},
     "output_type": "execute_result"
    }
   ],
   "source": [
    "# Columns in data\n",
    "df.columns"
   ]
  },
  {
   "cell_type": "code",
   "execution_count": 5,
   "id": "d6493ab9",
   "metadata": {},
   "outputs": [
    {
     "name": "stdout",
     "output_type": "stream",
     "text": [
      "<class 'pandas.core.frame.DataFrame'>\n",
      "RangeIndex: 144867 entries, 0 to 144866\n",
      "Data columns (total 24 columns):\n",
      " #   Column                          Non-Null Count   Dtype  \n",
      "---  ------                          --------------   -----  \n",
      " 0   data                            144867 non-null  object \n",
      " 1   trip_creation_time              144867 non-null  object \n",
      " 2   route_schedule_uuid             144867 non-null  object \n",
      " 3   route_type                      144867 non-null  object \n",
      " 4   trip_uuid                       144867 non-null  object \n",
      " 5   source_center                   144867 non-null  object \n",
      " 6   source_name                     144574 non-null  object \n",
      " 7   destination_center              144867 non-null  object \n",
      " 8   destination_name                144606 non-null  object \n",
      " 9   od_start_time                   144867 non-null  object \n",
      " 10  od_end_time                     144867 non-null  object \n",
      " 11  start_scan_to_end_scan          144867 non-null  float64\n",
      " 12  is_cutoff                       144867 non-null  bool   \n",
      " 13  cutoff_factor                   144867 non-null  int64  \n",
      " 14  cutoff_timestamp                144867 non-null  object \n",
      " 15  actual_distance_to_destination  144867 non-null  float64\n",
      " 16  actual_time                     144867 non-null  float64\n",
      " 17  osrm_time                       144867 non-null  float64\n",
      " 18  osrm_distance                   144867 non-null  float64\n",
      " 19  factor                          144867 non-null  float64\n",
      " 20  segment_actual_time             144867 non-null  float64\n",
      " 21  segment_osrm_time               144867 non-null  float64\n",
      " 22  segment_osrm_distance           144867 non-null  float64\n",
      " 23  segment_factor                  144867 non-null  float64\n",
      "dtypes: bool(1), float64(10), int64(1), object(12)\n",
      "memory usage: 25.6+ MB\n"
     ]
    }
   ],
   "source": [
    "# Characteristics of data\n",
    "df.info()"
   ]
  },
  {
   "cell_type": "code",
   "execution_count": 6,
   "id": "188b31bd",
   "metadata": {
    "scrolled": false
   },
   "outputs": [
    {
     "data": {
      "text/plain": [
       "data                                   2\n",
       "trip_creation_time                 14817\n",
       "route_schedule_uuid                 1504\n",
       "route_type                             2\n",
       "trip_uuid                          14817\n",
       "source_center                       1508\n",
       "source_name                         1498\n",
       "destination_center                  1481\n",
       "destination_name                    1468\n",
       "od_start_time                      26369\n",
       "od_end_time                        26369\n",
       "start_scan_to_end_scan              1915\n",
       "is_cutoff                              2\n",
       "cutoff_factor                        501\n",
       "cutoff_timestamp                   93180\n",
       "actual_distance_to_destination    144515\n",
       "actual_time                         3182\n",
       "osrm_time                           1531\n",
       "osrm_distance                     138046\n",
       "factor                             45641\n",
       "segment_actual_time                  747\n",
       "segment_osrm_time                    214\n",
       "segment_osrm_distance             113799\n",
       "segment_factor                      5675\n",
       "dtype: int64"
      ]
     },
     "execution_count": 6,
     "metadata": {},
     "output_type": "execute_result"
    }
   ],
   "source": [
    "# Unique attributes for each column\n",
    "df.nunique()"
   ]
  },
  {
   "cell_type": "code",
   "execution_count": 7,
   "id": "26b861e6",
   "metadata": {
    "scrolled": true
   },
   "outputs": [
    {
     "data": {
      "text/html": [
       "<div>\n",
       "<style scoped>\n",
       "    .dataframe tbody tr th:only-of-type {\n",
       "        vertical-align: middle;\n",
       "    }\n",
       "\n",
       "    .dataframe tbody tr th {\n",
       "        vertical-align: top;\n",
       "    }\n",
       "\n",
       "    .dataframe thead th {\n",
       "        text-align: right;\n",
       "    }\n",
       "</style>\n",
       "<table border=\"1\" class=\"dataframe\">\n",
       "  <thead>\n",
       "    <tr style=\"text-align: right;\">\n",
       "      <th></th>\n",
       "      <th>start_scan_to_end_scan</th>\n",
       "      <th>cutoff_factor</th>\n",
       "      <th>actual_distance_to_destination</th>\n",
       "      <th>actual_time</th>\n",
       "      <th>osrm_time</th>\n",
       "      <th>osrm_distance</th>\n",
       "      <th>factor</th>\n",
       "      <th>segment_actual_time</th>\n",
       "      <th>segment_osrm_time</th>\n",
       "      <th>segment_osrm_distance</th>\n",
       "      <th>segment_factor</th>\n",
       "    </tr>\n",
       "  </thead>\n",
       "  <tbody>\n",
       "    <tr>\n",
       "      <th>count</th>\n",
       "      <td>144867.000000</td>\n",
       "      <td>144867.000000</td>\n",
       "      <td>144867.000000</td>\n",
       "      <td>144867.000000</td>\n",
       "      <td>144867.000000</td>\n",
       "      <td>144867.000000</td>\n",
       "      <td>144867.000000</td>\n",
       "      <td>144867.000000</td>\n",
       "      <td>144867.000000</td>\n",
       "      <td>144867.00000</td>\n",
       "      <td>144867.000000</td>\n",
       "    </tr>\n",
       "    <tr>\n",
       "      <th>mean</th>\n",
       "      <td>961.262986</td>\n",
       "      <td>232.926567</td>\n",
       "      <td>234.073372</td>\n",
       "      <td>416.927527</td>\n",
       "      <td>213.868272</td>\n",
       "      <td>284.771297</td>\n",
       "      <td>2.120107</td>\n",
       "      <td>36.196111</td>\n",
       "      <td>18.507548</td>\n",
       "      <td>22.82902</td>\n",
       "      <td>2.218368</td>\n",
       "    </tr>\n",
       "    <tr>\n",
       "      <th>std</th>\n",
       "      <td>1037.012769</td>\n",
       "      <td>344.755577</td>\n",
       "      <td>344.990009</td>\n",
       "      <td>598.103621</td>\n",
       "      <td>308.011085</td>\n",
       "      <td>421.119294</td>\n",
       "      <td>1.715421</td>\n",
       "      <td>53.571158</td>\n",
       "      <td>14.775960</td>\n",
       "      <td>17.86066</td>\n",
       "      <td>4.847530</td>\n",
       "    </tr>\n",
       "    <tr>\n",
       "      <th>min</th>\n",
       "      <td>20.000000</td>\n",
       "      <td>9.000000</td>\n",
       "      <td>9.000045</td>\n",
       "      <td>9.000000</td>\n",
       "      <td>6.000000</td>\n",
       "      <td>9.008200</td>\n",
       "      <td>0.144000</td>\n",
       "      <td>-244.000000</td>\n",
       "      <td>0.000000</td>\n",
       "      <td>0.00000</td>\n",
       "      <td>-23.444444</td>\n",
       "    </tr>\n",
       "    <tr>\n",
       "      <th>25%</th>\n",
       "      <td>161.000000</td>\n",
       "      <td>22.000000</td>\n",
       "      <td>23.355874</td>\n",
       "      <td>51.000000</td>\n",
       "      <td>27.000000</td>\n",
       "      <td>29.914700</td>\n",
       "      <td>1.604264</td>\n",
       "      <td>20.000000</td>\n",
       "      <td>11.000000</td>\n",
       "      <td>12.07010</td>\n",
       "      <td>1.347826</td>\n",
       "    </tr>\n",
       "    <tr>\n",
       "      <th>50%</th>\n",
       "      <td>449.000000</td>\n",
       "      <td>66.000000</td>\n",
       "      <td>66.126571</td>\n",
       "      <td>132.000000</td>\n",
       "      <td>64.000000</td>\n",
       "      <td>78.525800</td>\n",
       "      <td>1.857143</td>\n",
       "      <td>29.000000</td>\n",
       "      <td>17.000000</td>\n",
       "      <td>23.51300</td>\n",
       "      <td>1.684211</td>\n",
       "    </tr>\n",
       "    <tr>\n",
       "      <th>75%</th>\n",
       "      <td>1634.000000</td>\n",
       "      <td>286.000000</td>\n",
       "      <td>286.708875</td>\n",
       "      <td>513.000000</td>\n",
       "      <td>257.000000</td>\n",
       "      <td>343.193250</td>\n",
       "      <td>2.213483</td>\n",
       "      <td>40.000000</td>\n",
       "      <td>22.000000</td>\n",
       "      <td>27.81325</td>\n",
       "      <td>2.250000</td>\n",
       "    </tr>\n",
       "    <tr>\n",
       "      <th>max</th>\n",
       "      <td>7898.000000</td>\n",
       "      <td>1927.000000</td>\n",
       "      <td>1927.447705</td>\n",
       "      <td>4532.000000</td>\n",
       "      <td>1686.000000</td>\n",
       "      <td>2326.199100</td>\n",
       "      <td>77.387097</td>\n",
       "      <td>3051.000000</td>\n",
       "      <td>1611.000000</td>\n",
       "      <td>2191.40370</td>\n",
       "      <td>574.250000</td>\n",
       "    </tr>\n",
       "  </tbody>\n",
       "</table>\n",
       "</div>"
      ],
      "text/plain": [
       "       start_scan_to_end_scan  cutoff_factor  actual_distance_to_destination  \\\n",
       "count           144867.000000  144867.000000                   144867.000000   \n",
       "mean               961.262986     232.926567                      234.073372   \n",
       "std               1037.012769     344.755577                      344.990009   \n",
       "min                 20.000000       9.000000                        9.000045   \n",
       "25%                161.000000      22.000000                       23.355874   \n",
       "50%                449.000000      66.000000                       66.126571   \n",
       "75%               1634.000000     286.000000                      286.708875   \n",
       "max               7898.000000    1927.000000                     1927.447705   \n",
       "\n",
       "         actual_time      osrm_time  osrm_distance         factor  \\\n",
       "count  144867.000000  144867.000000  144867.000000  144867.000000   \n",
       "mean      416.927527     213.868272     284.771297       2.120107   \n",
       "std       598.103621     308.011085     421.119294       1.715421   \n",
       "min         9.000000       6.000000       9.008200       0.144000   \n",
       "25%        51.000000      27.000000      29.914700       1.604264   \n",
       "50%       132.000000      64.000000      78.525800       1.857143   \n",
       "75%       513.000000     257.000000     343.193250       2.213483   \n",
       "max      4532.000000    1686.000000    2326.199100      77.387097   \n",
       "\n",
       "       segment_actual_time  segment_osrm_time  segment_osrm_distance  \\\n",
       "count        144867.000000      144867.000000           144867.00000   \n",
       "mean             36.196111          18.507548               22.82902   \n",
       "std              53.571158          14.775960               17.86066   \n",
       "min            -244.000000           0.000000                0.00000   \n",
       "25%              20.000000          11.000000               12.07010   \n",
       "50%              29.000000          17.000000               23.51300   \n",
       "75%              40.000000          22.000000               27.81325   \n",
       "max            3051.000000        1611.000000             2191.40370   \n",
       "\n",
       "       segment_factor  \n",
       "count   144867.000000  \n",
       "mean         2.218368  \n",
       "std          4.847530  \n",
       "min        -23.444444  \n",
       "25%          1.347826  \n",
       "50%          1.684211  \n",
       "75%          2.250000  \n",
       "max        574.250000  "
      ]
     },
     "execution_count": 7,
     "metadata": {},
     "output_type": "execute_result"
    }
   ],
   "source": [
    "# Statistical information for data\n",
    "df.describe()"
   ]
  },
  {
   "cell_type": "code",
   "execution_count": 8,
   "id": "dafca20c",
   "metadata": {},
   "outputs": [
    {
     "data": {
      "text/html": [
       "<div>\n",
       "<style scoped>\n",
       "    .dataframe tbody tr th:only-of-type {\n",
       "        vertical-align: middle;\n",
       "    }\n",
       "\n",
       "    .dataframe tbody tr th {\n",
       "        vertical-align: top;\n",
       "    }\n",
       "\n",
       "    .dataframe thead th {\n",
       "        text-align: right;\n",
       "    }\n",
       "</style>\n",
       "<table border=\"1\" class=\"dataframe\">\n",
       "  <thead>\n",
       "    <tr style=\"text-align: right;\">\n",
       "      <th></th>\n",
       "      <th>data</th>\n",
       "      <th>trip_creation_time</th>\n",
       "      <th>route_schedule_uuid</th>\n",
       "      <th>route_type</th>\n",
       "      <th>trip_uuid</th>\n",
       "      <th>source_center</th>\n",
       "      <th>source_name</th>\n",
       "      <th>destination_center</th>\n",
       "      <th>destination_name</th>\n",
       "      <th>od_start_time</th>\n",
       "      <th>od_end_time</th>\n",
       "      <th>cutoff_timestamp</th>\n",
       "    </tr>\n",
       "  </thead>\n",
       "  <tbody>\n",
       "    <tr>\n",
       "      <th>count</th>\n",
       "      <td>144867</td>\n",
       "      <td>144867</td>\n",
       "      <td>144867</td>\n",
       "      <td>144867</td>\n",
       "      <td>144867</td>\n",
       "      <td>144867</td>\n",
       "      <td>144574</td>\n",
       "      <td>144867</td>\n",
       "      <td>144606</td>\n",
       "      <td>144867</td>\n",
       "      <td>144867</td>\n",
       "      <td>144867</td>\n",
       "    </tr>\n",
       "    <tr>\n",
       "      <th>unique</th>\n",
       "      <td>2</td>\n",
       "      <td>14817</td>\n",
       "      <td>1504</td>\n",
       "      <td>2</td>\n",
       "      <td>14817</td>\n",
       "      <td>1508</td>\n",
       "      <td>1498</td>\n",
       "      <td>1481</td>\n",
       "      <td>1468</td>\n",
       "      <td>26369</td>\n",
       "      <td>26369</td>\n",
       "      <td>93180</td>\n",
       "    </tr>\n",
       "    <tr>\n",
       "      <th>top</th>\n",
       "      <td>training</td>\n",
       "      <td>2018-09-28 05:23:15.359220</td>\n",
       "      <td>thanos::sroute:4029a8a2-6c74-4b7e-a6d8-f9e069f...</td>\n",
       "      <td>FTL</td>\n",
       "      <td>trip-153811219535896559</td>\n",
       "      <td>IND000000ACB</td>\n",
       "      <td>Gurgaon_Bilaspur_HB (Haryana)</td>\n",
       "      <td>IND000000ACB</td>\n",
       "      <td>Gurgaon_Bilaspur_HB (Haryana)</td>\n",
       "      <td>2018-09-21 18:37:09.322207</td>\n",
       "      <td>2018-09-24 09:59:15.691618</td>\n",
       "      <td>2018-09-24 05:19:20</td>\n",
       "    </tr>\n",
       "    <tr>\n",
       "      <th>freq</th>\n",
       "      <td>104858</td>\n",
       "      <td>101</td>\n",
       "      <td>1812</td>\n",
       "      <td>99660</td>\n",
       "      <td>101</td>\n",
       "      <td>23347</td>\n",
       "      <td>23347</td>\n",
       "      <td>15192</td>\n",
       "      <td>15192</td>\n",
       "      <td>81</td>\n",
       "      <td>81</td>\n",
       "      <td>40</td>\n",
       "    </tr>\n",
       "  </tbody>\n",
       "</table>\n",
       "</div>"
      ],
      "text/plain": [
       "            data          trip_creation_time  \\\n",
       "count     144867                      144867   \n",
       "unique         2                       14817   \n",
       "top     training  2018-09-28 05:23:15.359220   \n",
       "freq      104858                         101   \n",
       "\n",
       "                                      route_schedule_uuid route_type  \\\n",
       "count                                              144867     144867   \n",
       "unique                                               1504          2   \n",
       "top     thanos::sroute:4029a8a2-6c74-4b7e-a6d8-f9e069f...        FTL   \n",
       "freq                                                 1812      99660   \n",
       "\n",
       "                      trip_uuid source_center                    source_name  \\\n",
       "count                    144867        144867                         144574   \n",
       "unique                    14817          1508                           1498   \n",
       "top     trip-153811219535896559  IND000000ACB  Gurgaon_Bilaspur_HB (Haryana)   \n",
       "freq                        101         23347                          23347   \n",
       "\n",
       "       destination_center               destination_name  \\\n",
       "count              144867                         144606   \n",
       "unique               1481                           1468   \n",
       "top          IND000000ACB  Gurgaon_Bilaspur_HB (Haryana)   \n",
       "freq                15192                          15192   \n",
       "\n",
       "                     od_start_time                 od_end_time  \\\n",
       "count                       144867                      144867   \n",
       "unique                       26369                       26369   \n",
       "top     2018-09-21 18:37:09.322207  2018-09-24 09:59:15.691618   \n",
       "freq                            81                          81   \n",
       "\n",
       "           cutoff_timestamp  \n",
       "count                144867  \n",
       "unique                93180  \n",
       "top     2018-09-24 05:19:20  \n",
       "freq                     40  "
      ]
     },
     "execution_count": 8,
     "metadata": {},
     "output_type": "execute_result"
    }
   ],
   "source": [
    "df.describe(include=['object'])"
   ]
  },
  {
   "cell_type": "code",
   "execution_count": 9,
   "id": "7770e4c5",
   "metadata": {
    "scrolled": false
   },
   "outputs": [
    {
     "data": {
      "text/plain": [
       "data                                0\n",
       "trip_creation_time                  0\n",
       "route_schedule_uuid                 0\n",
       "route_type                          0\n",
       "trip_uuid                           0\n",
       "source_center                       0\n",
       "source_name                       293\n",
       "destination_center                  0\n",
       "destination_name                  261\n",
       "od_start_time                       0\n",
       "od_end_time                         0\n",
       "start_scan_to_end_scan              0\n",
       "is_cutoff                           0\n",
       "cutoff_factor                       0\n",
       "cutoff_timestamp                    0\n",
       "actual_distance_to_destination      0\n",
       "actual_time                         0\n",
       "osrm_time                           0\n",
       "osrm_distance                       0\n",
       "factor                              0\n",
       "segment_actual_time                 0\n",
       "segment_osrm_time                   0\n",
       "segment_osrm_distance               0\n",
       "segment_factor                      0\n",
       "dtype: int64"
      ]
     },
     "execution_count": 9,
     "metadata": {},
     "output_type": "execute_result"
    }
   ],
   "source": [
    "# Check for null values in data\n",
    "df.isna().sum()"
   ]
  },
  {
   "cell_type": "markdown",
   "id": "96426ec8",
   "metadata": {},
   "source": [
    "### Observation"
   ]
  },
  {
   "cell_type": "markdown",
   "id": "0c44916d",
   "metadata": {},
   "source": [
    "- There are 144867 rows and 24 columns in this data.\n",
    "- Missing values found in the source name and destination columns.\n",
    "- There are three categorical variables data, route_type, and is_cutoff.\n",
    "- The continuous variables are having outliers init."
   ]
  },
  {
   "cell_type": "markdown",
   "id": "b33b2012",
   "metadata": {},
   "source": [
    "### Dropping null / missing values"
   ]
  },
  {
   "cell_type": "code",
   "execution_count": 10,
   "id": "8e0e7cd3",
   "metadata": {},
   "outputs": [],
   "source": [
    "# Dropping null values\n",
    "df = df.dropna()"
   ]
  },
  {
   "cell_type": "markdown",
   "id": "03750234",
   "metadata": {},
   "source": [
    "### Observation"
   ]
  },
  {
   "cell_type": "markdown",
   "id": "741daf58",
   "metadata": {},
   "source": [
    "- The percentage of missing values is very low or negligible, which will not impact our analysis so we can drop them."
   ]
  },
  {
   "cell_type": "markdown",
   "id": "aea6d2e6",
   "metadata": {},
   "source": [
    "### Co-relation and distribution of data"
   ]
  },
  {
   "cell_type": "code",
   "execution_count": 11,
   "id": "da5d514b",
   "metadata": {},
   "outputs": [
    {
     "data": {
      "image/png": "[encoded data removed]",
      "text/plain": [
       "<Figure size 720x576 with 2 Axes>"
      ]
     },
     "metadata": {
      "needs_background": "light"
     },
     "output_type": "display_data"
    }
   ],
   "source": [
    "# Co-relation of data using heatmap\n",
    "fig, ax = plt.subplots(figsize=(10,8))\n",
    "sns.heatmap(df.corr(),annot=True, cmap=\"Blues\")\n",
    "plt.show()"
   ]
  },
  {
   "cell_type": "markdown",
   "id": "018eea94",
   "metadata": {},
   "source": [
    "### Observation"
   ]
  },
  {
   "cell_type": "markdown",
   "id": "6095542e",
   "metadata": {},
   "source": [
    "- Strong positive linear relationship is seen between the variables which means that as one variable increases, the other variable also tends to increase."
   ]
  },
  {
   "cell_type": "markdown",
   "id": "43bd06dd",
   "metadata": {},
   "source": [
    "### Outlier detection using Inter-Quartile Range(IQR) method"
   ]
  },
  {
   "cell_type": "code",
   "execution_count": 12,
   "id": "ebc6261e",
   "metadata": {
    "scrolled": false
   },
   "outputs": [
    {
     "data": {
      "image/png": "[encoded data removed]",
      "text/plain": [
       "<Figure size 1152x576 with 6 Axes>"
      ]
     },
     "metadata": {
      "needs_background": "light"
     },
     "output_type": "display_data"
    }
   ],
   "source": [
    "cols = ['actual_distance_to_destination', 'actual_time', 'osrm_time', 'osrm_distance', 'segment_actual_time', 'segment_osrm_time', 'segment_osrm_distance']\n",
    "fig, axis = plt.subplots(2,3,figsize=(16,8))\n",
    "count = 0\n",
    "for row in range(2):\n",
    "    for col in range(3):\n",
    "        sns.boxplot(x=df[cols[count]], ax=axis[row,col])\n",
    "        count+=1\n",
    "plt.show()"
   ]
  },
  {
   "cell_type": "code",
   "execution_count": 13,
   "id": "fe4ba09d",
   "metadata": {
    "scrolled": true
   },
   "outputs": [
    {
     "data": {
      "image/png": "[encoded data removed]",
      "text/plain": [
       "<Figure size 432x288 with 1 Axes>"
      ]
     },
     "metadata": {
      "needs_background": "light"
     },
     "output_type": "display_data"
    }
   ],
   "source": [
    "sns.boxplot(x=df['segment_osrm_distance'])\n",
    "plt.show()"
   ]
  },
  {
   "cell_type": "code",
   "execution_count": 14,
   "id": "ea8555fd",
   "metadata": {
    "scrolled": false
   },
   "outputs": [
    {
     "name": "stdout",
     "output_type": "stream",
     "text": [
      "actual_distance_to_destination :\n",
      "Lower_bound: -372.0\n",
      "Upper_bound: 682.27\n",
      "actual_time :\n",
      "Lower_bound: -646.5\n",
      "Upper_bound: 1213.5\n",
      "osrm_time :\n",
      "Lower_bound: -321.0\n",
      "Upper_bound: 607.0\n",
      "osrm_distance :\n",
      "Lower_bound: -444.72\n",
      "Upper_bound: 820.92\n",
      "segment_actual_time :\n",
      "Lower_bound: -10.0\n",
      "Upper_bound: 70.0\n",
      "segment_osrm_time :\n",
      "Lower_bound: -5.5\n",
      "Upper_bound: 38.5\n",
      "segment_osrm_distance :\n",
      "Lower_bound: -11.59\n",
      "Upper_bound: 51.45\n"
     ]
    }
   ],
   "source": [
    "# Lower and Upper bounds for the columns\n",
    "for col in cols:\n",
    "    Q1 = df[col].quantile(0.25)\n",
    "    Q3 = df[col].quantile(0.75)\n",
    "    IQR = Q3 - Q1\n",
    "    lower_bound = Q1 - 1.5 * IQR\n",
    "    upper_bound = Q3 + 1.5 * IQR\n",
    "    print(col,':') \n",
    "    print('Lower_bound:',round(lower_bound,2)) \n",
    "    print('Upper_bound:',round(upper_bound,2))"
   ]
  },
  {
   "cell_type": "markdown",
   "id": "f2746239",
   "metadata": {},
   "source": [
    "### Observation"
   ]
  },
  {
   "cell_type": "markdown",
   "id": "9216dafe",
   "metadata": {},
   "source": [
    "- As per the Inter-Quartile range method, values greater than the upper limit are considered outliers.\n",
    "- There are many outliers in each and every column.\n",
    "- In this case outliers should not be removed because they often provide valuable information about the data, and removing them can result in biased or misleading results, and reduce the sample size and representativeness of the data."
   ]
  },
  {
   "cell_type": "markdown",
   "id": "57a8850a",
   "metadata": {},
   "source": [
    "### Univariate analysis"
   ]
  },
  {
   "cell_type": "code",
   "execution_count": 15,
   "id": "d10c779c",
   "metadata": {},
   "outputs": [
    {
     "data": {
      "text/plain": [
       "training    104632\n",
       "test         39684\n",
       "Name: data, dtype: int64"
      ]
     },
     "execution_count": 15,
     "metadata": {},
     "output_type": "execute_result"
    }
   ],
   "source": [
    "# Value counts for categorical variables\n",
    "df['data'].value_counts()"
   ]
  },
  {
   "cell_type": "code",
   "execution_count": 16,
   "id": "e04b00b0",
   "metadata": {},
   "outputs": [
    {
     "data": {
      "text/plain": [
       "FTL        99132\n",
       "Carting    45184\n",
       "Name: route_type, dtype: int64"
      ]
     },
     "execution_count": 16,
     "metadata": {},
     "output_type": "execute_result"
    }
   ],
   "source": [
    "df['route_type'].value_counts()"
   ]
  },
  {
   "cell_type": "code",
   "execution_count": 17,
   "id": "37aecc02",
   "metadata": {},
   "outputs": [
    {
     "data": {
      "image/png": "[encoded data removed]",
      "text/plain": [
       "<Figure size 1008x360 with 2 Axes>"
      ]
     },
     "metadata": {
      "needs_background": "light"
     },
     "output_type": "display_data"
    }
   ],
   "source": [
    "# Univariate analysis for categorical variables\n",
    "fig, axis = plt.subplots(1,2,figsize=(14,5))\n",
    "sns.countplot(x=df['data'], palette = \"mako\", ax=axis[0])\n",
    "sns.countplot(x=df['route_type'], palette = \"mako\", ax=axis[1])\n",
    "plt.show()"
   ]
  },
  {
   "cell_type": "code",
   "execution_count": 18,
   "id": "ef19a9b6",
   "metadata": {
    "scrolled": false
   },
   "outputs": [
    {
     "data": {
      "image/png": "[encoded data removed]",
      "text/plain": [
       "<Figure size 1296x720 with 6 Axes>"
      ]
     },
     "metadata": {
      "needs_background": "light"
     },
     "output_type": "display_data"
    }
   ],
   "source": [
    "# Univariate analysis for each continuous variables\n",
    "fig, axis = plt.subplots(2,3,figsize=(18, 10))\n",
    "count = 0\n",
    "for row in range(2):\n",
    "    for col in range(3):\n",
    "        sns.histplot(x=df[cols[count]], kde=True, ax=axis[row,col])\n",
    "        count+=1\n",
    "plt.show()"
   ]
  },
  {
   "cell_type": "code",
   "execution_count": 19,
   "id": "58e798ed",
   "metadata": {
    "scrolled": true
   },
   "outputs": [
    {
     "data": {
      "image/png": "[encoded data removed]",
      "text/plain": [
       "<Figure size 432x288 with 1 Axes>"
      ]
     },
     "metadata": {
      "needs_background": "light"
     },
     "output_type": "display_data"
    }
   ],
   "source": [
    "sns.histplot(x=df['segment_osrm_time'], kde=True)\n",
    "plt.show()"
   ]
  },
  {
   "cell_type": "markdown",
   "id": "a3f15ab1",
   "metadata": {},
   "source": [
    "### Observation"
   ]
  },
  {
   "cell_type": "markdown",
   "id": "0c98f4b4",
   "metadata": {},
   "source": [
    "- The maximum number of data that comes from training is 104632 and then 39684 from testing.\n",
    "- Maximum packages are delivered via FTL (Full Truck Load) shipments.\n",
    "- Histogram plot shows the distribution of data seems to be right-skewed."
   ]
  },
  {
   "cell_type": "markdown",
   "id": "eabb83fd",
   "metadata": {},
   "source": [
    "### Merging of rows and aggregation of fields"
   ]
  },
  {
   "cell_type": "code",
   "execution_count": 20,
   "id": "4c508d38",
   "metadata": {},
   "outputs": [],
   "source": [
    "# Creating a dictionary for multiple grouping\n",
    "group_dict = {\n",
    "    'data' : 'first',\n",
    "    'trip_creation_time' : 'first',\n",
    "    'route_schedule_uuid' : 'first',\n",
    "    'route_type' : 'first',\n",
    "    'source_center' : 'first',\n",
    "    'source_name' : 'first',\n",
    "    'destination_center' : 'last',\n",
    "    'destination_name' : 'last',\n",
    "    'od_start_time' : 'first',\n",
    "    'od_end_time' : 'last',\n",
    "    'start_scan_to_end_scan' : 'sum',\n",
    "    'actual_distance_to_destination' : 'sum',\n",
    "    'actual_time' : 'sum',\n",
    "    'osrm_time' : 'sum',\n",
    "    'osrm_distance' : 'sum',\n",
    "    'segment_actual_time' : 'sum',\n",
    "    'segment_osrm_time' : 'sum',\n",
    "    'segment_osrm_distance' : 'sum',\n",
    "}"
   ]
  },
  {
   "cell_type": "code",
   "execution_count": 21,
   "id": "de88538b",
   "metadata": {
    "scrolled": false
   },
   "outputs": [
    {
     "data": {
      "text/html": [
       "<div>\n",
       "<style scoped>\n",
       "    .dataframe tbody tr th:only-of-type {\n",
       "        vertical-align: middle;\n",
       "    }\n",
       "\n",
       "    .dataframe tbody tr th {\n",
       "        vertical-align: top;\n",
       "    }\n",
       "\n",
       "    .dataframe thead th {\n",
       "        text-align: right;\n",
       "    }\n",
       "</style>\n",
       "<table border=\"1\" class=\"dataframe\">\n",
       "  <thead>\n",
       "    <tr style=\"text-align: right;\">\n",
       "      <th></th>\n",
       "      <th>trip_uuid</th>\n",
       "      <th>data</th>\n",
       "      <th>trip_creation_time</th>\n",
       "      <th>route_schedule_uuid</th>\n",
       "      <th>route_type</th>\n",
       "      <th>source_center</th>\n",
       "      <th>source_name</th>\n",
       "      <th>destination_center</th>\n",
       "      <th>destination_name</th>\n",
       "      <th>od_start_time</th>\n",
       "      <th>od_end_time</th>\n",
       "      <th>start_scan_to_end_scan</th>\n",
       "      <th>actual_distance_to_destination</th>\n",
       "      <th>actual_time</th>\n",
       "      <th>osrm_time</th>\n",
       "      <th>osrm_distance</th>\n",
       "      <th>segment_actual_time</th>\n",
       "      <th>segment_osrm_time</th>\n",
       "      <th>segment_osrm_distance</th>\n",
       "    </tr>\n",
       "  </thead>\n",
       "  <tbody>\n",
       "    <tr>\n",
       "      <th>0</th>\n",
       "      <td>trip-153671041653548748</td>\n",
       "      <td>training</td>\n",
       "      <td>2018-09-12 00:00:16.535741</td>\n",
       "      <td>thanos::sroute:d7c989ba-a29b-4a0b-b2f4-288cdc6...</td>\n",
       "      <td>FTL</td>\n",
       "      <td>IND462022AAA</td>\n",
       "      <td>Bhopal_Trnsport_H (Madhya Pradesh)</td>\n",
       "      <td>IND000000ACB</td>\n",
       "      <td>Gurgaon_Bilaspur_HB (Haryana)</td>\n",
       "      <td>2018-09-12 00:00:16.535741</td>\n",
       "      <td>2018-09-13 13:40:23.123744</td>\n",
       "      <td>43659.0</td>\n",
       "      <td>8860.812105</td>\n",
       "      <td>15682.0</td>\n",
       "      <td>7787.0</td>\n",
       "      <td>10577.7647</td>\n",
       "      <td>1548.0</td>\n",
       "      <td>1008.0</td>\n",
       "      <td>1320.4733</td>\n",
       "    </tr>\n",
       "    <tr>\n",
       "      <th>1</th>\n",
       "      <td>trip-153671042288605164</td>\n",
       "      <td>training</td>\n",
       "      <td>2018-09-12 00:00:22.886430</td>\n",
       "      <td>thanos::sroute:3a1b0ab2-bb0b-4c53-8c59-eb2a2c0...</td>\n",
       "      <td>Carting</td>\n",
       "      <td>IND572101AAA</td>\n",
       "      <td>Tumkur_Veersagr_I (Karnataka)</td>\n",
       "      <td>IND562101AAA</td>\n",
       "      <td>Chikblapur_ShntiSgr_D (Karnataka)</td>\n",
       "      <td>2018-09-12 00:00:22.886430</td>\n",
       "      <td>2018-09-12 03:01:59.598855</td>\n",
       "      <td>906.0</td>\n",
       "      <td>240.208306</td>\n",
       "      <td>399.0</td>\n",
       "      <td>210.0</td>\n",
       "      <td>269.4308</td>\n",
       "      <td>141.0</td>\n",
       "      <td>65.0</td>\n",
       "      <td>84.1894</td>\n",
       "    </tr>\n",
       "    <tr>\n",
       "      <th>2</th>\n",
       "      <td>trip-153671043369099517</td>\n",
       "      <td>training</td>\n",
       "      <td>2018-09-12 00:00:33.691250</td>\n",
       "      <td>thanos::sroute:de5e208e-7641-45e6-8100-4d9fb1e...</td>\n",
       "      <td>FTL</td>\n",
       "      <td>IND562132AAA</td>\n",
       "      <td>Bangalore_Nelmngla_H (Karnataka)</td>\n",
       "      <td>IND160002AAC</td>\n",
       "      <td>Chandigarh_Mehmdpur_H (Punjab)</td>\n",
       "      <td>2018-09-12 00:00:33.691250</td>\n",
       "      <td>2018-09-14 17:34:55.442454</td>\n",
       "      <td>248631.0</td>\n",
       "      <td>68163.502238</td>\n",
       "      <td>112225.0</td>\n",
       "      <td>65768.0</td>\n",
       "      <td>89447.2488</td>\n",
       "      <td>3308.0</td>\n",
       "      <td>1941.0</td>\n",
       "      <td>2545.2678</td>\n",
       "    </tr>\n",
       "    <tr>\n",
       "      <th>3</th>\n",
       "      <td>trip-153671046011330457</td>\n",
       "      <td>training</td>\n",
       "      <td>2018-09-12 00:01:00.113710</td>\n",
       "      <td>thanos::sroute:f0176492-a679-4597-8332-bbd1c7f...</td>\n",
       "      <td>Carting</td>\n",
       "      <td>IND400072AAB</td>\n",
       "      <td>Mumbai Hub (Maharashtra)</td>\n",
       "      <td>IND401104AAA</td>\n",
       "      <td>Mumbai_MiraRd_IP (Maharashtra)</td>\n",
       "      <td>2018-09-12 00:01:00.113710</td>\n",
       "      <td>2018-09-12 01:41:29.809822</td>\n",
       "      <td>200.0</td>\n",
       "      <td>28.529648</td>\n",
       "      <td>82.0</td>\n",
       "      <td>24.0</td>\n",
       "      <td>31.6475</td>\n",
       "      <td>59.0</td>\n",
       "      <td>16.0</td>\n",
       "      <td>19.8766</td>\n",
       "    </tr>\n",
       "    <tr>\n",
       "      <th>4</th>\n",
       "      <td>trip-153671052974046625</td>\n",
       "      <td>training</td>\n",
       "      <td>2018-09-12 00:02:09.740725</td>\n",
       "      <td>thanos::sroute:d9f07b12-65e0-4f3b-bec8-df06134...</td>\n",
       "      <td>FTL</td>\n",
       "      <td>IND583101AAA</td>\n",
       "      <td>Bellary_Dc (Karnataka)</td>\n",
       "      <td>IND583101AAA</td>\n",
       "      <td>Bellary_Dc (Karnataka)</td>\n",
       "      <td>2018-09-12 00:02:09.740725</td>\n",
       "      <td>2018-09-12 12:00:30.683231</td>\n",
       "      <td>1586.0</td>\n",
       "      <td>239.007304</td>\n",
       "      <td>556.0</td>\n",
       "      <td>207.0</td>\n",
       "      <td>266.2914</td>\n",
       "      <td>340.0</td>\n",
       "      <td>115.0</td>\n",
       "      <td>146.7919</td>\n",
       "    </tr>\n",
       "  </tbody>\n",
       "</table>\n",
       "</div>"
      ],
      "text/plain": [
       "                 trip_uuid      data          trip_creation_time  \\\n",
       "0  trip-153671041653548748  training  2018-09-12 00:00:16.535741   \n",
       "1  trip-153671042288605164  training  2018-09-12 00:00:22.886430   \n",
       "2  trip-153671043369099517  training  2018-09-12 00:00:33.691250   \n",
       "3  trip-153671046011330457  training  2018-09-12 00:01:00.113710   \n",
       "4  trip-153671052974046625  training  2018-09-12 00:02:09.740725   \n",
       "\n",
       "                                 route_schedule_uuid route_type source_center  \\\n",
       "0  thanos::sroute:d7c989ba-a29b-4a0b-b2f4-288cdc6...        FTL  IND462022AAA   \n",
       "1  thanos::sroute:3a1b0ab2-bb0b-4c53-8c59-eb2a2c0...    Carting  IND572101AAA   \n",
       "2  thanos::sroute:de5e208e-7641-45e6-8100-4d9fb1e...        FTL  IND562132AAA   \n",
       "3  thanos::sroute:f0176492-a679-4597-8332-bbd1c7f...    Carting  IND400072AAB   \n",
       "4  thanos::sroute:d9f07b12-65e0-4f3b-bec8-df06134...        FTL  IND583101AAA   \n",
       "\n",
       "                          source_name destination_center  \\\n",
       "0  Bhopal_Trnsport_H (Madhya Pradesh)       IND000000ACB   \n",
       "1       Tumkur_Veersagr_I (Karnataka)       IND562101AAA   \n",
       "2    Bangalore_Nelmngla_H (Karnataka)       IND160002AAC   \n",
       "3            Mumbai Hub (Maharashtra)       IND401104AAA   \n",
       "4              Bellary_Dc (Karnataka)       IND583101AAA   \n",
       "\n",
       "                    destination_name               od_start_time  \\\n",
       "0      Gurgaon_Bilaspur_HB (Haryana)  2018-09-12 00:00:16.535741   \n",
       "1  Chikblapur_ShntiSgr_D (Karnataka)  2018-09-12 00:00:22.886430   \n",
       "2     Chandigarh_Mehmdpur_H (Punjab)  2018-09-12 00:00:33.691250   \n",
       "3     Mumbai_MiraRd_IP (Maharashtra)  2018-09-12 00:01:00.113710   \n",
       "4             Bellary_Dc (Karnataka)  2018-09-12 00:02:09.740725   \n",
       "\n",
       "                  od_end_time  start_scan_to_end_scan  \\\n",
       "0  2018-09-13 13:40:23.123744                 43659.0   \n",
       "1  2018-09-12 03:01:59.598855                   906.0   \n",
       "2  2018-09-14 17:34:55.442454                248631.0   \n",
       "3  2018-09-12 01:41:29.809822                   200.0   \n",
       "4  2018-09-12 12:00:30.683231                  1586.0   \n",
       "\n",
       "   actual_distance_to_destination  actual_time  osrm_time  osrm_distance  \\\n",
       "0                     8860.812105      15682.0     7787.0     10577.7647   \n",
       "1                      240.208306        399.0      210.0       269.4308   \n",
       "2                    68163.502238     112225.0    65768.0     89447.2488   \n",
       "3                       28.529648         82.0       24.0        31.6475   \n",
       "4                      239.007304        556.0      207.0       266.2914   \n",
       "\n",
       "   segment_actual_time  segment_osrm_time  segment_osrm_distance  \n",
       "0               1548.0             1008.0              1320.4733  \n",
       "1                141.0               65.0                84.1894  \n",
       "2               3308.0             1941.0              2545.2678  \n",
       "3                 59.0               16.0                19.8766  \n",
       "4                340.0              115.0               146.7919  "
      ]
     },
     "execution_count": 21,
     "metadata": {},
     "output_type": "execute_result"
    }
   ],
   "source": [
    "# Data afetr performing groupby\n",
    "df = df.groupby('trip_uuid').agg(group_dict).reset_index()\n",
    "df.head()"
   ]
  },
  {
   "cell_type": "code",
   "execution_count": 22,
   "id": "2063c3a0",
   "metadata": {},
   "outputs": [
    {
     "data": {
      "text/plain": [
       "(14787, 19)"
      ]
     },
     "execution_count": 22,
     "metadata": {},
     "output_type": "execute_result"
    }
   ],
   "source": [
    "df.shape"
   ]
  },
  {
   "cell_type": "markdown",
   "id": "ee30d13d",
   "metadata": {},
   "source": [
    "### Observation"
   ]
  },
  {
   "cell_type": "markdown",
   "id": "aab62987",
   "metadata": {},
   "source": [
    "- As a result of grouping and merging rows for each trip_uuid, we have reduced the data to 14787 rows and 19 columns.\n",
    "- A trip_uuid represents a single package delivery in a row containing the source and destination names."
   ]
  },
  {
   "cell_type": "markdown",
   "id": "d0c295f1",
   "metadata": {},
   "source": [
    "### Handling categorical values with One-hot encoding method"
   ]
  },
  {
   "cell_type": "code",
   "execution_count": 23,
   "id": "60778ecb",
   "metadata": {},
   "outputs": [],
   "source": [
    "# One-hot encoding method for data and route_type variable\n",
    "data_one_hot = pd.get_dummies(df['data'], prefix='data')\n",
    "df = pd.concat([df, data_one_hot], axis=1)\n",
    "\n",
    "route_type_one_hot = pd.get_dummies(df['route_type'], prefix='route_type')\n",
    "df = pd.concat([df, route_type_one_hot], axis=1)\n",
    "\n",
    "# Dropping the original columns\n",
    "df.drop(['data', 'route_type'], axis=1, inplace=True)"
   ]
  },
  {
   "cell_type": "markdown",
   "id": "aaab4d85",
   "metadata": {},
   "source": [
    "### Feature creation for analysis"
   ]
  },
  {
   "cell_type": "code",
   "execution_count": 24,
   "id": "af7a6530",
   "metadata": {},
   "outputs": [],
   "source": [
    "# Feature creation for source name and destination name\n",
    "df['source_city'] = df['source_name'].apply(lambda x: x.split(\"_\")[0])\n",
    "df['source_place'] = df['source_name'].apply(lambda x: x.split(\"_\")[1] if len(x.split(\"_\")) > 1 else None)\n",
    "df['source_code'] = df['source_name'].apply(lambda x: x.split(\"_\")[-1].split(\" (\")[0])\n",
    "df['source_state'] = df['source_name'].apply(lambda x: x.split(\" (\")[-1].split(\")\")[0])\n",
    "\n",
    "df['destination_city'] = df['destination_name'].apply(lambda x: x.split(\"_\")[0])\n",
    "df['destination_place'] = df['destination_name'].apply(lambda x: x.split(\"_\")[1] if len(x.split(\"_\")) > 1 else None)\n",
    "df['destination_code'] = df['destination_name'].apply(lambda x: x.split(\"_\")[-1].split(\" (\")[0])\n",
    "df['destination_state'] = df['destination_name'].apply(lambda x: x.split(\" (\")[-1].split(\")\")[0])\n",
    "\n",
    "# Dropping the original columns\n",
    "df = df.drop(columns=['source_name', 'destination_name'])"
   ]
  },
  {
   "cell_type": "code",
   "execution_count": 25,
   "id": "291f1ddf",
   "metadata": {
    "scrolled": false
   },
   "outputs": [],
   "source": [
    "# Feature creation for trip_creation_time\n",
    "df['trip_creation_time'] = pd.to_datetime(df['trip_creation_time'])\n",
    "df['year'] = df['trip_creation_time'].dt.year\n",
    "df['month'] = df['trip_creation_time'].dt.month\n",
    "df['day'] = df['trip_creation_time'].dt.day\n",
    "df['time'] = df['trip_creation_time'].dt.time\n",
    "\n",
    "# Dropping the original columns\n",
    "df = df.drop(columns=['trip_creation_time'])"
   ]
  },
  {
   "cell_type": "code",
   "execution_count": 26,
   "id": "12781429",
   "metadata": {},
   "outputs": [],
   "source": [
    "df['od_start_time'] = pd.to_datetime(df['od_start_time'])\n",
    "df['od_end_time'] = pd.to_datetime(df['od_end_time'])\n",
    "df['difference_od_time'] = df['od_end_time'] - df['od_start_time']\n",
    "\n",
    "# Dropping the original columns\n",
    "df = df.drop(columns=['od_start_time', 'od_end_time'])"
   ]
  },
  {
   "cell_type": "code",
   "execution_count": 27,
   "id": "40d204b0",
   "metadata": {
    "scrolled": false
   },
   "outputs": [
    {
     "data": {
      "text/html": [
       "<div>\n",
       "<style scoped>\n",
       "    .dataframe tbody tr th:only-of-type {\n",
       "        vertical-align: middle;\n",
       "    }\n",
       "\n",
       "    .dataframe tbody tr th {\n",
       "        vertical-align: top;\n",
       "    }\n",
       "\n",
       "    .dataframe thead th {\n",
       "        text-align: right;\n",
       "    }\n",
       "</style>\n",
       "<table border=\"1\" class=\"dataframe\">\n",
       "  <thead>\n",
       "    <tr style=\"text-align: right;\">\n",
       "      <th></th>\n",
       "      <th>trip_uuid</th>\n",
       "      <th>route_schedule_uuid</th>\n",
       "      <th>source_center</th>\n",
       "      <th>destination_center</th>\n",
       "      <th>start_scan_to_end_scan</th>\n",
       "      <th>actual_distance_to_destination</th>\n",
       "      <th>actual_time</th>\n",
       "      <th>osrm_time</th>\n",
       "      <th>osrm_distance</th>\n",
       "      <th>segment_actual_time</th>\n",
       "      <th>segment_osrm_time</th>\n",
       "      <th>segment_osrm_distance</th>\n",
       "      <th>data_test</th>\n",
       "      <th>data_training</th>\n",
       "      <th>route_type_Carting</th>\n",
       "      <th>route_type_FTL</th>\n",
       "      <th>source_city</th>\n",
       "      <th>source_place</th>\n",
       "      <th>source_code</th>\n",
       "      <th>source_state</th>\n",
       "      <th>destination_city</th>\n",
       "      <th>destination_place</th>\n",
       "      <th>destination_code</th>\n",
       "      <th>destination_state</th>\n",
       "      <th>year</th>\n",
       "      <th>month</th>\n",
       "      <th>day</th>\n",
       "      <th>time</th>\n",
       "      <th>difference_od_time</th>\n",
       "    </tr>\n",
       "  </thead>\n",
       "  <tbody>\n",
       "    <tr>\n",
       "      <th>0</th>\n",
       "      <td>trip-153671041653548748</td>\n",
       "      <td>thanos::sroute:d7c989ba-a29b-4a0b-b2f4-288cdc6...</td>\n",
       "      <td>IND462022AAA</td>\n",
       "      <td>IND000000ACB</td>\n",
       "      <td>43659.0</td>\n",
       "      <td>8860.812105</td>\n",
       "      <td>15682.0</td>\n",
       "      <td>7787.0</td>\n",
       "      <td>10577.7647</td>\n",
       "      <td>1548.0</td>\n",
       "      <td>1008.0</td>\n",
       "      <td>1320.4733</td>\n",
       "      <td>0</td>\n",
       "      <td>1</td>\n",
       "      <td>0</td>\n",
       "      <td>1</td>\n",
       "      <td>Bhopal</td>\n",
       "      <td>Trnsport</td>\n",
       "      <td>H</td>\n",
       "      <td>Madhya Pradesh</td>\n",
       "      <td>Gurgaon</td>\n",
       "      <td>Bilaspur</td>\n",
       "      <td>HB</td>\n",
       "      <td>Haryana</td>\n",
       "      <td>2018</td>\n",
       "      <td>9</td>\n",
       "      <td>12</td>\n",
       "      <td>00:00:16.535741</td>\n",
       "      <td>1 days 13:40:06.588003</td>\n",
       "    </tr>\n",
       "    <tr>\n",
       "      <th>1</th>\n",
       "      <td>trip-153671042288605164</td>\n",
       "      <td>thanos::sroute:3a1b0ab2-bb0b-4c53-8c59-eb2a2c0...</td>\n",
       "      <td>IND572101AAA</td>\n",
       "      <td>IND562101AAA</td>\n",
       "      <td>906.0</td>\n",
       "      <td>240.208306</td>\n",
       "      <td>399.0</td>\n",
       "      <td>210.0</td>\n",
       "      <td>269.4308</td>\n",
       "      <td>141.0</td>\n",
       "      <td>65.0</td>\n",
       "      <td>84.1894</td>\n",
       "      <td>0</td>\n",
       "      <td>1</td>\n",
       "      <td>1</td>\n",
       "      <td>0</td>\n",
       "      <td>Tumkur</td>\n",
       "      <td>Veersagr</td>\n",
       "      <td>I</td>\n",
       "      <td>Karnataka</td>\n",
       "      <td>Chikblapur</td>\n",
       "      <td>ShntiSgr</td>\n",
       "      <td>D</td>\n",
       "      <td>Karnataka</td>\n",
       "      <td>2018</td>\n",
       "      <td>9</td>\n",
       "      <td>12</td>\n",
       "      <td>00:00:22.886430</td>\n",
       "      <td>0 days 03:01:36.712425</td>\n",
       "    </tr>\n",
       "    <tr>\n",
       "      <th>2</th>\n",
       "      <td>trip-153671043369099517</td>\n",
       "      <td>thanos::sroute:de5e208e-7641-45e6-8100-4d9fb1e...</td>\n",
       "      <td>IND562132AAA</td>\n",
       "      <td>IND160002AAC</td>\n",
       "      <td>248631.0</td>\n",
       "      <td>68163.502238</td>\n",
       "      <td>112225.0</td>\n",
       "      <td>65768.0</td>\n",
       "      <td>89447.2488</td>\n",
       "      <td>3308.0</td>\n",
       "      <td>1941.0</td>\n",
       "      <td>2545.2678</td>\n",
       "      <td>0</td>\n",
       "      <td>1</td>\n",
       "      <td>0</td>\n",
       "      <td>1</td>\n",
       "      <td>Bangalore</td>\n",
       "      <td>Nelmngla</td>\n",
       "      <td>H</td>\n",
       "      <td>Karnataka</td>\n",
       "      <td>Chandigarh</td>\n",
       "      <td>Mehmdpur</td>\n",
       "      <td>H</td>\n",
       "      <td>Punjab</td>\n",
       "      <td>2018</td>\n",
       "      <td>9</td>\n",
       "      <td>12</td>\n",
       "      <td>00:00:33.691250</td>\n",
       "      <td>2 days 17:34:21.751204</td>\n",
       "    </tr>\n",
       "    <tr>\n",
       "      <th>3</th>\n",
       "      <td>trip-153671046011330457</td>\n",
       "      <td>thanos::sroute:f0176492-a679-4597-8332-bbd1c7f...</td>\n",
       "      <td>IND400072AAB</td>\n",
       "      <td>IND401104AAA</td>\n",
       "      <td>200.0</td>\n",
       "      <td>28.529648</td>\n",
       "      <td>82.0</td>\n",
       "      <td>24.0</td>\n",
       "      <td>31.6475</td>\n",
       "      <td>59.0</td>\n",
       "      <td>16.0</td>\n",
       "      <td>19.8766</td>\n",
       "      <td>0</td>\n",
       "      <td>1</td>\n",
       "      <td>1</td>\n",
       "      <td>0</td>\n",
       "      <td>Mumbai Hub (Maharashtra)</td>\n",
       "      <td>None</td>\n",
       "      <td>Mumbai Hub</td>\n",
       "      <td>Maharashtra</td>\n",
       "      <td>Mumbai</td>\n",
       "      <td>MiraRd</td>\n",
       "      <td>IP</td>\n",
       "      <td>Maharashtra</td>\n",
       "      <td>2018</td>\n",
       "      <td>9</td>\n",
       "      <td>12</td>\n",
       "      <td>00:01:00.113710</td>\n",
       "      <td>0 days 01:40:29.696112</td>\n",
       "    </tr>\n",
       "    <tr>\n",
       "      <th>4</th>\n",
       "      <td>trip-153671052974046625</td>\n",
       "      <td>thanos::sroute:d9f07b12-65e0-4f3b-bec8-df06134...</td>\n",
       "      <td>IND583101AAA</td>\n",
       "      <td>IND583101AAA</td>\n",
       "      <td>1586.0</td>\n",
       "      <td>239.007304</td>\n",
       "      <td>556.0</td>\n",
       "      <td>207.0</td>\n",
       "      <td>266.2914</td>\n",
       "      <td>340.0</td>\n",
       "      <td>115.0</td>\n",
       "      <td>146.7919</td>\n",
       "      <td>0</td>\n",
       "      <td>1</td>\n",
       "      <td>0</td>\n",
       "      <td>1</td>\n",
       "      <td>Bellary</td>\n",
       "      <td>Dc (Karnataka)</td>\n",
       "      <td>Dc</td>\n",
       "      <td>Karnataka</td>\n",
       "      <td>Bellary</td>\n",
       "      <td>Dc (Karnataka)</td>\n",
       "      <td>Dc</td>\n",
       "      <td>Karnataka</td>\n",
       "      <td>2018</td>\n",
       "      <td>9</td>\n",
       "      <td>12</td>\n",
       "      <td>00:02:09.740725</td>\n",
       "      <td>0 days 11:58:20.942506</td>\n",
       "    </tr>\n",
       "  </tbody>\n",
       "</table>\n",
       "</div>"
      ],
      "text/plain": [
       "                 trip_uuid                                route_schedule_uuid  \\\n",
       "0  trip-153671041653548748  thanos::sroute:d7c989ba-a29b-4a0b-b2f4-288cdc6...   \n",
       "1  trip-153671042288605164  thanos::sroute:3a1b0ab2-bb0b-4c53-8c59-eb2a2c0...   \n",
       "2  trip-153671043369099517  thanos::sroute:de5e208e-7641-45e6-8100-4d9fb1e...   \n",
       "3  trip-153671046011330457  thanos::sroute:f0176492-a679-4597-8332-bbd1c7f...   \n",
       "4  trip-153671052974046625  thanos::sroute:d9f07b12-65e0-4f3b-bec8-df06134...   \n",
       "\n",
       "  source_center destination_center  start_scan_to_end_scan  \\\n",
       "0  IND462022AAA       IND000000ACB                 43659.0   \n",
       "1  IND572101AAA       IND562101AAA                   906.0   \n",
       "2  IND562132AAA       IND160002AAC                248631.0   \n",
       "3  IND400072AAB       IND401104AAA                   200.0   \n",
       "4  IND583101AAA       IND583101AAA                  1586.0   \n",
       "\n",
       "   actual_distance_to_destination  actual_time  osrm_time  osrm_distance  \\\n",
       "0                     8860.812105      15682.0     7787.0     10577.7647   \n",
       "1                      240.208306        399.0      210.0       269.4308   \n",
       "2                    68163.502238     112225.0    65768.0     89447.2488   \n",
       "3                       28.529648         82.0       24.0        31.6475   \n",
       "4                      239.007304        556.0      207.0       266.2914   \n",
       "\n",
       "   segment_actual_time  segment_osrm_time  segment_osrm_distance  data_test  \\\n",
       "0               1548.0             1008.0              1320.4733          0   \n",
       "1                141.0               65.0                84.1894          0   \n",
       "2               3308.0             1941.0              2545.2678          0   \n",
       "3                 59.0               16.0                19.8766          0   \n",
       "4                340.0              115.0               146.7919          0   \n",
       "\n",
       "   data_training  route_type_Carting  route_type_FTL  \\\n",
       "0              1                   0               1   \n",
       "1              1                   1               0   \n",
       "2              1                   0               1   \n",
       "3              1                   1               0   \n",
       "4              1                   0               1   \n",
       "\n",
       "                source_city    source_place source_code    source_state  \\\n",
       "0                    Bhopal        Trnsport           H  Madhya Pradesh   \n",
       "1                    Tumkur        Veersagr           I       Karnataka   \n",
       "2                 Bangalore        Nelmngla           H       Karnataka   \n",
       "3  Mumbai Hub (Maharashtra)            None  Mumbai Hub     Maharashtra   \n",
       "4                   Bellary  Dc (Karnataka)          Dc       Karnataka   \n",
       "\n",
       "  destination_city destination_place destination_code destination_state  year  \\\n",
       "0          Gurgaon          Bilaspur               HB           Haryana  2018   \n",
       "1       Chikblapur          ShntiSgr                D         Karnataka  2018   \n",
       "2       Chandigarh          Mehmdpur                H            Punjab  2018   \n",
       "3           Mumbai            MiraRd               IP       Maharashtra  2018   \n",
       "4          Bellary    Dc (Karnataka)               Dc         Karnataka  2018   \n",
       "\n",
       "   month  day             time     difference_od_time  \n",
       "0      9   12  00:00:16.535741 1 days 13:40:06.588003  \n",
       "1      9   12  00:00:22.886430 0 days 03:01:36.712425  \n",
       "2      9   12  00:00:33.691250 2 days 17:34:21.751204  \n",
       "3      9   12  00:01:00.113710 0 days 01:40:29.696112  \n",
       "4      9   12  00:02:09.740725 0 days 11:58:20.942506  "
      ]
     },
     "execution_count": 27,
     "metadata": {},
     "output_type": "execute_result"
    }
   ],
   "source": [
    "df.head()"
   ]
  },
  {
   "cell_type": "markdown",
   "id": "f13121d4",
   "metadata": {},
   "source": [
    "### Observation"
   ]
  },
  {
   "cell_type": "markdown",
   "id": "c2a36d16",
   "metadata": {},
   "source": [
    "- Dropping source and destination names we have extracted city, place, code, and state from it.\n",
    "- Dropping the trip_creation_time column once we have extracted it into the year, month, day, and time columns.\n",
    "- Extracted new feature, difference_od_time from the od_start_time and od_end_time columns."
   ]
  },
  {
   "cell_type": "markdown",
   "id": "a6c762b2",
   "metadata": {},
   "source": [
    "### Analysis after feature creation"
   ]
  },
  {
   "cell_type": "code",
   "execution_count": 28,
   "id": "ab551597",
   "metadata": {},
   "outputs": [
    {
     "data": {
      "text/plain": [
       "Timedelta('0 days 09:06:08.293688780')"
      ]
     },
     "execution_count": 28,
     "metadata": {},
     "output_type": "execute_result"
    }
   ],
   "source": [
    "# Average time for trip start and end\n",
    "df['difference_od_time'].mean()"
   ]
  },
  {
   "cell_type": "code",
   "execution_count": 29,
   "id": "6162343d",
   "metadata": {},
   "outputs": [
    {
     "data": {
      "text/plain": [
       "Maharashtra    2682\n",
       "Karnataka      2229\n",
       "Haryana        1669\n",
       "Tamil Nadu     1085\n",
       "Delhi           790\n",
       "Name: source_state, dtype: int64"
      ]
     },
     "execution_count": 29,
     "metadata": {},
     "output_type": "execute_result"
    }
   ],
   "source": [
    "# Top 5 states with hishest count for source center\n",
    "df['source_state'].value_counts()[:5]"
   ]
  },
  {
   "cell_type": "code",
   "execution_count": 30,
   "id": "6c7b7b3e",
   "metadata": {},
   "outputs": [
    {
     "data": {
      "text/plain": [
       "Maharashtra    2591\n",
       "Karnataka      2276\n",
       "Haryana        1664\n",
       "Tamil Nadu     1072\n",
       "Telangana       843\n",
       "Name: destination_state, dtype: int64"
      ]
     },
     "execution_count": 30,
     "metadata": {},
     "output_type": "execute_result"
    }
   ],
   "source": [
    "# Top 5 states with hishest count for source center\n",
    "df['destination_state'].value_counts()[:5]"
   ]
  },
  {
   "cell_type": "code",
   "execution_count": 31,
   "id": "8e9ebc76",
   "metadata": {
    "scrolled": true
   },
   "outputs": [
    {
     "data": {
      "image/png": "[encoded data removed]",
      "text/plain": [
       "<Figure size 1080x360 with 2 Axes>"
      ]
     },
     "metadata": {
      "needs_background": "light"
     },
     "output_type": "display_data"
    }
   ],
   "source": [
    "# Top 10 state with maximum count for source and destination\n",
    "fig, ax = plt.subplots(1, 2, figsize=(15, 5))\n",
    "fig.subplots_adjust(wspace=0.5, hspace=0.5)\n",
    "\n",
    "sns.countplot(y=df['source_state'], order=df['source_state'].value_counts().index[:10], palette='mako', ax=ax[0])\n",
    "ax[0].set_title('Source state')\n",
    "\n",
    "sns.countplot(y=df['destination_state'], order=df['destination_state'].value_counts().index[:10], palette='mako', ax=ax[1])\n",
    "ax[1].set_title('Destination state')\n",
    "\n",
    "plt.show()"
   ]
  },
  {
   "cell_type": "code",
   "execution_count": 32,
   "id": "1902fa59",
   "metadata": {},
   "outputs": [
    {
     "data": {
      "text/plain": [
       "Bengaluru    1015\n",
       "Gurgaon      1013\n",
       "Bhiwandi      811\n",
       "Bangalore     755\n",
       "Delhi         617\n",
       "Name: source_city, dtype: int64"
      ]
     },
     "execution_count": 32,
     "metadata": {},
     "output_type": "execute_result"
    }
   ],
   "source": [
    "df['source_city'].value_counts()[:5]"
   ]
  },
  {
   "cell_type": "code",
   "execution_count": 33,
   "id": "747cb0e2",
   "metadata": {},
   "outputs": [
    {
     "data": {
      "text/plain": [
       "Bengaluru    1056\n",
       "Mumbai        891\n",
       "Gurgaon       869\n",
       "Bangalore     646\n",
       "Hyderabad     630\n",
       "Name: destination_city, dtype: int64"
      ]
     },
     "execution_count": 33,
     "metadata": {},
     "output_type": "execute_result"
    }
   ],
   "source": [
    "df['destination_city'].value_counts()[:5]"
   ]
  },
  {
   "cell_type": "code",
   "execution_count": 34,
   "id": "ba64f924",
   "metadata": {},
   "outputs": [
    {
     "data": {
      "image/png": "[encoded data removed]",
      "text/plain": [
       "<Figure size 1080x360 with 2 Axes>"
      ]
     },
     "metadata": {
      "needs_background": "light"
     },
     "output_type": "display_data"
    }
   ],
   "source": [
    "# Top 10 cities with maximum count for source and destination\n",
    "fig, ax = plt.subplots(1, 2, figsize=(15, 5))\n",
    "fig.subplots_adjust(wspace=0.5, hspace=0.5)\n",
    "\n",
    "sns.countplot(y=df['source_city'], order=df['source_city'].value_counts().index[:10], palette='mako', ax=ax[0])\n",
    "ax[0].set_title('Source city')\n",
    "\n",
    "sns.countplot(y=df['destination_city'], order=df['destination_city'].value_counts().index[:10], palette='mako', ax=ax[1])\n",
    "ax[1].set_title('Destination city')\n",
    "\n",
    "plt.show()"
   ]
  },
  {
   "cell_type": "markdown",
   "id": "3da9eeff",
   "metadata": {},
   "source": [
    "### Observation"
   ]
  },
  {
   "cell_type": "markdown",
   "id": "1f320a14",
   "metadata": {},
   "source": [
    "- Average time for trip start and end is 0 days, 9 hours, 6 minutes, 8 seconds.\n",
    "- The maximum number of deliveries from source and destination states happens in Maharashtra, followed by Karnataka and Haryana.\n",
    "- The maximum number of deliveries from source and destination cities happens to be from Bengaluru, Gurgaon, and Mumbai."
   ]
  },
  {
   "cell_type": "markdown",
   "id": "fd4593a7",
   "metadata": {},
   "source": [
    "### Comparison & Visualization of time and distance fields (Bivariate analysis)"
   ]
  },
  {
   "cell_type": "code",
   "execution_count": 35,
   "id": "fb6c95a0",
   "metadata": {},
   "outputs": [
    {
     "data": {
      "image/png": "[encoded data removed]",
      "text/plain": [
       "<Figure size 576x360 with 1 Axes>"
      ]
     },
     "metadata": {
      "needs_background": "light"
     },
     "output_type": "display_data"
    }
   ],
   "source": [
    "# visual analysis for difference between actual time and osrm time\n",
    "fig, ax = plt.subplots(figsize=(8,5))\n",
    "sns.scatterplot(x=df['actual_time'], y=df['osrm_time'])\n",
    "plt.xlabel('Actual time')\n",
    "plt.ylabel('OSRM time')\n",
    "plt.title('Scatterplot of Actual time vs. OSRM time')\n",
    "plt.show()"
   ]
  },
  {
   "cell_type": "markdown",
   "id": "91893299",
   "metadata": {},
   "source": [
    "### Two sample t-test to check the difference between actual time and osrm time"
   ]
  },
  {
   "cell_type": "markdown",
   "id": "677844d0",
   "metadata": {},
   "source": [
    "- Define null hypothesis\n",
    "- Null hypothesis H0: There is no difference between the actual time and the OSRM estimated time.\n",
    "- Alternate hypothesis Ha: There is a difference between the actual time and the OSRM estimated time.\n",
    "- Significance level (alpha): 0.05"
   ]
  },
  {
   "cell_type": "code",
   "execution_count": 36,
   "id": "6e61a9d5",
   "metadata": {},
   "outputs": [
    {
     "data": {
      "text/plain": [
       "(14.054765721968753, 1.0035150782316351e-44)"
      ]
     },
     "execution_count": 36,
     "metadata": {},
     "output_type": "execute_result"
    }
   ],
   "source": [
    "# Importing stats library\n",
    "from scipy.stats import ttest_ind\n",
    "# perform a two-sample t-test\n",
    "t_stat, p_val = ttest_ind(df['actual_time'], df['osrm_time'])\n",
    "t_stat, p_val"
   ]
  },
  {
   "cell_type": "code",
   "execution_count": 37,
   "id": "a4e59c19",
   "metadata": {
    "scrolled": true
   },
   "outputs": [
    {
     "name": "stdout",
     "output_type": "stream",
     "text": [
      "Reject null hypothesis\n"
     ]
    }
   ],
   "source": [
    "# Conclusion from p-value\n",
    "if p_val < 0.05:\n",
    "    print(\"Reject null hypothesis\")\n",
    "else:\n",
    "    print(\"Fail to reject null hypothesis\")"
   ]
  },
  {
   "cell_type": "markdown",
   "id": "87659fa4",
   "metadata": {},
   "source": [
    "### Observation"
   ]
  },
  {
   "cell_type": "markdown",
   "id": "7e89d5d9",
   "metadata": {},
   "source": [
    "- From the above test results we can conclude that there is a difference between the actual time and the OSRM estimated time."
   ]
  },
  {
   "cell_type": "code",
   "execution_count": 38,
   "id": "f8624481",
   "metadata": {},
   "outputs": [
    {
     "data": {
      "image/png": "[encoded data removed]",
      "text/plain": [
       "<Figure size 576x360 with 1 Axes>"
      ]
     },
     "metadata": {
      "needs_background": "light"
     },
     "output_type": "display_data"
    }
   ],
   "source": [
    "# visual analysis for difference between actual time and segment actual time\n",
    "fig, ax = plt.subplots(figsize=(8,5))\n",
    "sns.scatterplot(x=df['actual_time'], y=df['segment_actual_time'])\n",
    "plt.xlabel('Actual time')\n",
    "plt.ylabel('Segment actual time')\n",
    "plt.title('Scatterplot of Actual time vs. Segment actual time')\n",
    "plt.show()"
   ]
  },
  {
   "cell_type": "markdown",
   "id": "059e18d9",
   "metadata": {},
   "source": [
    "### Two sample t-test to check the difference between actual time and segment actual time"
   ]
  },
  {
   "cell_type": "markdown",
   "id": "2aad257d",
   "metadata": {},
   "source": [
    "- Define null hypothesis\n",
    "- Null hypothesis H0: There is no difference between the actual time and the segment actual time.\n",
    "- Alternate hypothesis Ha: There is a difference between the actual time and the segment actual time.\n",
    "- Significance level (alpha): 0.05"
   ]
  },
  {
   "cell_type": "code",
   "execution_count": 39,
   "id": "ebbc98b0",
   "metadata": {},
   "outputs": [
    {
     "data": {
      "text/plain": [
       "(29.729631525728006, 2.094590710444802e-191)"
      ]
     },
     "execution_count": 39,
     "metadata": {},
     "output_type": "execute_result"
    }
   ],
   "source": [
    "# Importing stats library\n",
    "from scipy.stats import ttest_ind\n",
    "# perform a two-sample t-test\n",
    "t_stat, p_val = ttest_ind(df['actual_time'], df['segment_actual_time'])\n",
    "t_stat, p_val"
   ]
  },
  {
   "cell_type": "code",
   "execution_count": 40,
   "id": "0e7e47a9",
   "metadata": {
    "scrolled": true
   },
   "outputs": [
    {
     "name": "stdout",
     "output_type": "stream",
     "text": [
      "Reject null hypothesis\n"
     ]
    }
   ],
   "source": [
    "# Conclusion from p-value\n",
    "if p_val < 0.05:\n",
    "    print(\"Reject null hypothesis\")\n",
    "else:\n",
    "    print(\"Fail to reject null hypothesis\")"
   ]
  },
  {
   "cell_type": "markdown",
   "id": "20182a27",
   "metadata": {},
   "source": [
    "### Observation"
   ]
  },
  {
   "cell_type": "markdown",
   "id": "643fa7f7",
   "metadata": {},
   "source": [
    "- From the above test results we can conclude that there is a difference between the actual time and the segment actual time."
   ]
  },
  {
   "cell_type": "code",
   "execution_count": 41,
   "id": "e15e4ec7",
   "metadata": {},
   "outputs": [
    {
     "data": {
      "image/png": "[encoded data removed]",
      "text/plain": [
       "<Figure size 576x360 with 1 Axes>"
      ]
     },
     "metadata": {
      "needs_background": "light"
     },
     "output_type": "display_data"
    }
   ],
   "source": [
    "# visual analysis for difference between osrm distance and segment osrm distance\n",
    "fig, ax = plt.subplots(figsize=(8,5))\n",
    "sns.scatterplot(x=df['osrm_distance'], y=df['segment_osrm_time'])\n",
    "plt.xlabel('OSRM distance')\n",
    "plt.ylabel('Segment OSRM distance')\n",
    "plt.title('Scatterplot of OSRM distance vs. Segment OSRM distance')\n",
    "plt.show()"
   ]
  },
  {
   "cell_type": "markdown",
   "id": "c29f3461",
   "metadata": {},
   "source": [
    "### Two sample t-test to check the difference between osrm distance and segment osrm distance"
   ]
  },
  {
   "cell_type": "markdown",
   "id": "01fb6d4d",
   "metadata": {},
   "source": [
    "- Define null hypothesis\n",
    "- Null hypothesis H0: There is no difference between the OSRM distance and the segment OSRM distance.\n",
    "- Alternative hypothesis Ha: There is a difference between the OSRM distance and the segment OSRM distance.\n",
    "- Significance level (alpha): 0.05"
   ]
  },
  {
   "cell_type": "code",
   "execution_count": 42,
   "id": "36f66dde",
   "metadata": {},
   "outputs": [
    {
     "data": {
      "text/plain": [
       "(28.93044380372159, 1.6776818679213108e-181)"
      ]
     },
     "execution_count": 42,
     "metadata": {},
     "output_type": "execute_result"
    }
   ],
   "source": [
    "# Importing stats library\n",
    "from scipy.stats import ttest_ind\n",
    "# perform a two-sample t-test\n",
    "t_stat, p_val = ttest_ind(df['osrm_distance'], df['segment_osrm_distance'])\n",
    "t_stat, p_val"
   ]
  },
  {
   "cell_type": "code",
   "execution_count": 43,
   "id": "985c31fd",
   "metadata": {},
   "outputs": [
    {
     "name": "stdout",
     "output_type": "stream",
     "text": [
      "Reject null hypothesis\n"
     ]
    }
   ],
   "source": [
    "# Conclusion from p-value\n",
    "if p_val < 0.05:\n",
    "    print(\"Reject null hypothesis\")\n",
    "else:\n",
    "    print(\"Fail to reject null hypothesis\")"
   ]
  },
  {
   "cell_type": "markdown",
   "id": "51b39f6f",
   "metadata": {},
   "source": [
    "### Observation"
   ]
  },
  {
   "cell_type": "markdown",
   "id": "8c1dc90b",
   "metadata": {},
   "source": [
    "- From the above test results we can conclude that there is a difference between the OSRM distance and the segment OSRM distance."
   ]
  },
  {
   "cell_type": "code",
   "execution_count": 44,
   "id": "4f3f0682",
   "metadata": {},
   "outputs": [
    {
     "data": {
      "image/png": "[encoded data removed]",
      "text/plain": [
       "<Figure size 576x360 with 1 Axes>"
      ]
     },
     "metadata": {
      "needs_background": "light"
     },
     "output_type": "display_data"
    }
   ],
   "source": [
    "# visual analysis for difference between osrm time and segment osrm time\n",
    "fig, ax = plt.subplots(figsize=(8,5))\n",
    "sns.scatterplot(x=df['osrm_time'], y=df['segment_osrm_time'])\n",
    "plt.xlabel('OSRM time')\n",
    "plt.ylabel('Segment OSRM time')\n",
    "plt.title('Scatterplot of OSRM time vs. Segment OSRM time')\n",
    "plt.show()"
   ]
  },
  {
   "cell_type": "markdown",
   "id": "a07b478b",
   "metadata": {},
   "source": [
    "### Two sample t-test to check the difference between osrm time and segment osrm time"
   ]
  },
  {
   "cell_type": "markdown",
   "id": "1825cfc9",
   "metadata": {},
   "source": [
    "- Define null hypothesis\n",
    "- Null hypothesis H0: There is no difference between the OSRM time and the segment OSRM time.\n",
    "- Alternative hypothesis Ha: There is a difference between the OSRM time and the segment OSRM time.\n",
    "- Significance level (alpha): 0.05"
   ]
  },
  {
   "cell_type": "code",
   "execution_count": 45,
   "id": "63672af2",
   "metadata": {},
   "outputs": [
    {
     "data": {
      "text/plain": [
       "(29.17350787831633, 1.735881315681226e-184)"
      ]
     },
     "execution_count": 45,
     "metadata": {},
     "output_type": "execute_result"
    }
   ],
   "source": [
    "# Importing stats library\n",
    "from scipy.stats import ttest_ind\n",
    "# perform a two-sample t-test\n",
    "t_stat, p_val = ttest_ind(df['osrm_time'], df['segment_osrm_time'])\n",
    "t_stat, p_val"
   ]
  },
  {
   "cell_type": "code",
   "execution_count": 46,
   "id": "9565da6d",
   "metadata": {},
   "outputs": [
    {
     "name": "stdout",
     "output_type": "stream",
     "text": [
      "Reject null hypothesis\n"
     ]
    }
   ],
   "source": [
    "# Conclusion from p-value\n",
    "if p_val < 0.05:\n",
    "    print(\"Reject null hypothesis\")\n",
    "else:\n",
    "    print(\"Fail to reject null hypothesis\")"
   ]
  },
  {
   "cell_type": "markdown",
   "id": "a44d90fc",
   "metadata": {},
   "source": [
    "### Observation"
   ]
  },
  {
   "cell_type": "markdown",
   "id": "d4dbbaa2",
   "metadata": {},
   "source": [
    "- From the above test results we can conclude that there is a difference between the OSRM time and the segment OSRM time."
   ]
  },
  {
   "cell_type": "markdown",
   "id": "265849f0",
   "metadata": {},
   "source": [
    "### Normalizing the numerical features using MinMaxScaler or StandardScaler."
   ]
  },
  {
   "cell_type": "code",
   "execution_count": 47,
   "id": "557ba7d7",
   "metadata": {},
   "outputs": [],
   "source": [
    "# Normalize the numerical features using MinMaxScaler\n",
    "from sklearn.preprocessing import MinMaxScaler\n",
    "\n",
    "columns = ['actual_distance_to_destination', 'actual_time', 'osrm_time', 'osrm_distance', 'segment_actual_time', 'segment_osrm_time', 'segment_osrm_distance']\n",
    "scaler = MinMaxScaler()\n",
    "df[columns] = scaler.fit_transform(df[columns])"
   ]
  },
  {
   "cell_type": "code",
   "execution_count": 48,
   "id": "223cab44",
   "metadata": {},
   "outputs": [
    {
     "data": {
      "text/html": [
       "<div>\n",
       "<style scoped>\n",
       "    .dataframe tbody tr th:only-of-type {\n",
       "        vertical-align: middle;\n",
       "    }\n",
       "\n",
       "    .dataframe tbody tr th {\n",
       "        vertical-align: top;\n",
       "    }\n",
       "\n",
       "    .dataframe thead th {\n",
       "        text-align: right;\n",
       "    }\n",
       "</style>\n",
       "<table border=\"1\" class=\"dataframe\">\n",
       "  <thead>\n",
       "    <tr style=\"text-align: right;\">\n",
       "      <th></th>\n",
       "      <th>trip_uuid</th>\n",
       "      <th>route_schedule_uuid</th>\n",
       "      <th>source_center</th>\n",
       "      <th>destination_center</th>\n",
       "      <th>start_scan_to_end_scan</th>\n",
       "      <th>actual_distance_to_destination</th>\n",
       "      <th>actual_time</th>\n",
       "      <th>osrm_time</th>\n",
       "      <th>osrm_distance</th>\n",
       "      <th>segment_actual_time</th>\n",
       "      <th>segment_osrm_time</th>\n",
       "      <th>segment_osrm_distance</th>\n",
       "      <th>data_test</th>\n",
       "      <th>data_training</th>\n",
       "      <th>route_type_Carting</th>\n",
       "      <th>route_type_FTL</th>\n",
       "      <th>source_city</th>\n",
       "      <th>source_place</th>\n",
       "      <th>source_code</th>\n",
       "      <th>source_state</th>\n",
       "      <th>destination_city</th>\n",
       "      <th>destination_place</th>\n",
       "      <th>destination_code</th>\n",
       "      <th>destination_state</th>\n",
       "      <th>year</th>\n",
       "      <th>month</th>\n",
       "      <th>day</th>\n",
       "      <th>time</th>\n",
       "      <th>difference_od_time</th>\n",
       "    </tr>\n",
       "  </thead>\n",
       "  <tbody>\n",
       "    <tr>\n",
       "      <th>0</th>\n",
       "      <td>trip-153671041653548748</td>\n",
       "      <td>thanos::sroute:d7c989ba-a29b-4a0b-b2f4-288cdc6...</td>\n",
       "      <td>IND462022AAA</td>\n",
       "      <td>IND000000ACB</td>\n",
       "      <td>43659.0</td>\n",
       "      <td>0.104014</td>\n",
       "      <td>0.093341</td>\n",
       "      <td>0.101122</td>\n",
       "      <td>0.103203</td>\n",
       "      <td>0.247388</td>\n",
       "      <td>0.391712</td>\n",
       "      <td>0.373134</td>\n",
       "      <td>0</td>\n",
       "      <td>1</td>\n",
       "      <td>0</td>\n",
       "      <td>1</td>\n",
       "      <td>Bhopal</td>\n",
       "      <td>Trnsport</td>\n",
       "      <td>H</td>\n",
       "      <td>Madhya Pradesh</td>\n",
       "      <td>Gurgaon</td>\n",
       "      <td>Bilaspur</td>\n",
       "      <td>HB</td>\n",
       "      <td>Haryana</td>\n",
       "      <td>2018</td>\n",
       "      <td>9</td>\n",
       "      <td>12</td>\n",
       "      <td>00:00:16.535741</td>\n",
       "      <td>1 days 13:40:06.588003</td>\n",
       "    </tr>\n",
       "    <tr>\n",
       "      <th>1</th>\n",
       "      <td>trip-153671042288605164</td>\n",
       "      <td>thanos::sroute:3a1b0ab2-bb0b-4c53-8c59-eb2a2c0...</td>\n",
       "      <td>IND572101AAA</td>\n",
       "      <td>IND562101AAA</td>\n",
       "      <td>906.0</td>\n",
       "      <td>0.002717</td>\n",
       "      <td>0.002323</td>\n",
       "      <td>0.002651</td>\n",
       "      <td>0.002542</td>\n",
       "      <td>0.021218</td>\n",
       "      <td>0.023065</td>\n",
       "      <td>0.021373</td>\n",
       "      <td>0</td>\n",
       "      <td>1</td>\n",
       "      <td>1</td>\n",
       "      <td>0</td>\n",
       "      <td>Tumkur</td>\n",
       "      <td>Veersagr</td>\n",
       "      <td>I</td>\n",
       "      <td>Karnataka</td>\n",
       "      <td>Chikblapur</td>\n",
       "      <td>ShntiSgr</td>\n",
       "      <td>D</td>\n",
       "      <td>Karnataka</td>\n",
       "      <td>2018</td>\n",
       "      <td>9</td>\n",
       "      <td>12</td>\n",
       "      <td>00:00:22.886430</td>\n",
       "      <td>0 days 03:01:36.712425</td>\n",
       "    </tr>\n",
       "    <tr>\n",
       "      <th>2</th>\n",
       "      <td>trip-153671043369099517</td>\n",
       "      <td>thanos::sroute:de5e208e-7641-45e6-8100-4d9fb1e...</td>\n",
       "      <td>IND562132AAA</td>\n",
       "      <td>IND160002AAC</td>\n",
       "      <td>248631.0</td>\n",
       "      <td>0.800858</td>\n",
       "      <td>0.668306</td>\n",
       "      <td>0.854640</td>\n",
       "      <td>0.873362</td>\n",
       "      <td>0.530301</td>\n",
       "      <td>0.756450</td>\n",
       "      <td>0.721625</td>\n",
       "      <td>0</td>\n",
       "      <td>1</td>\n",
       "      <td>0</td>\n",
       "      <td>1</td>\n",
       "      <td>Bangalore</td>\n",
       "      <td>Nelmngla</td>\n",
       "      <td>H</td>\n",
       "      <td>Karnataka</td>\n",
       "      <td>Chandigarh</td>\n",
       "      <td>Mehmdpur</td>\n",
       "      <td>H</td>\n",
       "      <td>Punjab</td>\n",
       "      <td>2018</td>\n",
       "      <td>9</td>\n",
       "      <td>12</td>\n",
       "      <td>00:00:33.691250</td>\n",
       "      <td>2 days 17:34:21.751204</td>\n",
       "    </tr>\n",
       "    <tr>\n",
       "      <th>3</th>\n",
       "      <td>trip-153671046011330457</td>\n",
       "      <td>thanos::sroute:f0176492-a679-4597-8332-bbd1c7f...</td>\n",
       "      <td>IND400072AAB</td>\n",
       "      <td>IND401104AAA</td>\n",
       "      <td>200.0</td>\n",
       "      <td>0.000229</td>\n",
       "      <td>0.000435</td>\n",
       "      <td>0.000234</td>\n",
       "      <td>0.000220</td>\n",
       "      <td>0.008037</td>\n",
       "      <td>0.003909</td>\n",
       "      <td>0.003074</td>\n",
       "      <td>0</td>\n",
       "      <td>1</td>\n",
       "      <td>1</td>\n",
       "      <td>0</td>\n",
       "      <td>Mumbai Hub (Maharashtra)</td>\n",
       "      <td>None</td>\n",
       "      <td>Mumbai Hub</td>\n",
       "      <td>Maharashtra</td>\n",
       "      <td>Mumbai</td>\n",
       "      <td>MiraRd</td>\n",
       "      <td>IP</td>\n",
       "      <td>Maharashtra</td>\n",
       "      <td>2018</td>\n",
       "      <td>9</td>\n",
       "      <td>12</td>\n",
       "      <td>00:01:00.113710</td>\n",
       "      <td>0 days 01:40:29.696112</td>\n",
       "    </tr>\n",
       "    <tr>\n",
       "      <th>4</th>\n",
       "      <td>trip-153671052974046625</td>\n",
       "      <td>thanos::sroute:d9f07b12-65e0-4f3b-bec8-df06134...</td>\n",
       "      <td>IND583101AAA</td>\n",
       "      <td>IND583101AAA</td>\n",
       "      <td>1586.0</td>\n",
       "      <td>0.002703</td>\n",
       "      <td>0.003258</td>\n",
       "      <td>0.002612</td>\n",
       "      <td>0.002512</td>\n",
       "      <td>0.053207</td>\n",
       "      <td>0.042611</td>\n",
       "      <td>0.039185</td>\n",
       "      <td>0</td>\n",
       "      <td>1</td>\n",
       "      <td>0</td>\n",
       "      <td>1</td>\n",
       "      <td>Bellary</td>\n",
       "      <td>Dc (Karnataka)</td>\n",
       "      <td>Dc</td>\n",
       "      <td>Karnataka</td>\n",
       "      <td>Bellary</td>\n",
       "      <td>Dc (Karnataka)</td>\n",
       "      <td>Dc</td>\n",
       "      <td>Karnataka</td>\n",
       "      <td>2018</td>\n",
       "      <td>9</td>\n",
       "      <td>12</td>\n",
       "      <td>00:02:09.740725</td>\n",
       "      <td>0 days 11:58:20.942506</td>\n",
       "    </tr>\n",
       "  </tbody>\n",
       "</table>\n",
       "</div>"
      ],
      "text/plain": [
       "                 trip_uuid                                route_schedule_uuid  \\\n",
       "0  trip-153671041653548748  thanos::sroute:d7c989ba-a29b-4a0b-b2f4-288cdc6...   \n",
       "1  trip-153671042288605164  thanos::sroute:3a1b0ab2-bb0b-4c53-8c59-eb2a2c0...   \n",
       "2  trip-153671043369099517  thanos::sroute:de5e208e-7641-45e6-8100-4d9fb1e...   \n",
       "3  trip-153671046011330457  thanos::sroute:f0176492-a679-4597-8332-bbd1c7f...   \n",
       "4  trip-153671052974046625  thanos::sroute:d9f07b12-65e0-4f3b-bec8-df06134...   \n",
       "\n",
       "  source_center destination_center  start_scan_to_end_scan  \\\n",
       "0  IND462022AAA       IND000000ACB                 43659.0   \n",
       "1  IND572101AAA       IND562101AAA                   906.0   \n",
       "2  IND562132AAA       IND160002AAC                248631.0   \n",
       "3  IND400072AAB       IND401104AAA                   200.0   \n",
       "4  IND583101AAA       IND583101AAA                  1586.0   \n",
       "\n",
       "   actual_distance_to_destination  actual_time  osrm_time  osrm_distance  \\\n",
       "0                        0.104014     0.093341   0.101122       0.103203   \n",
       "1                        0.002717     0.002323   0.002651       0.002542   \n",
       "2                        0.800858     0.668306   0.854640       0.873362   \n",
       "3                        0.000229     0.000435   0.000234       0.000220   \n",
       "4                        0.002703     0.003258   0.002612       0.002512   \n",
       "\n",
       "   segment_actual_time  segment_osrm_time  segment_osrm_distance  data_test  \\\n",
       "0             0.247388           0.391712               0.373134          0   \n",
       "1             0.021218           0.023065               0.021373          0   \n",
       "2             0.530301           0.756450               0.721625          0   \n",
       "3             0.008037           0.003909               0.003074          0   \n",
       "4             0.053207           0.042611               0.039185          0   \n",
       "\n",
       "   data_training  route_type_Carting  route_type_FTL  \\\n",
       "0              1                   0               1   \n",
       "1              1                   1               0   \n",
       "2              1                   0               1   \n",
       "3              1                   1               0   \n",
       "4              1                   0               1   \n",
       "\n",
       "                source_city    source_place source_code    source_state  \\\n",
       "0                    Bhopal        Trnsport           H  Madhya Pradesh   \n",
       "1                    Tumkur        Veersagr           I       Karnataka   \n",
       "2                 Bangalore        Nelmngla           H       Karnataka   \n",
       "3  Mumbai Hub (Maharashtra)            None  Mumbai Hub     Maharashtra   \n",
       "4                   Bellary  Dc (Karnataka)          Dc       Karnataka   \n",
       "\n",
       "  destination_city destination_place destination_code destination_state  year  \\\n",
       "0          Gurgaon          Bilaspur               HB           Haryana  2018   \n",
       "1       Chikblapur          ShntiSgr                D         Karnataka  2018   \n",
       "2       Chandigarh          Mehmdpur                H            Punjab  2018   \n",
       "3           Mumbai            MiraRd               IP       Maharashtra  2018   \n",
       "4          Bellary    Dc (Karnataka)               Dc         Karnataka  2018   \n",
       "\n",
       "   month  day             time     difference_od_time  \n",
       "0      9   12  00:00:16.535741 1 days 13:40:06.588003  \n",
       "1      9   12  00:00:22.886430 0 days 03:01:36.712425  \n",
       "2      9   12  00:00:33.691250 2 days 17:34:21.751204  \n",
       "3      9   12  00:01:00.113710 0 days 01:40:29.696112  \n",
       "4      9   12  00:02:09.740725 0 days 11:58:20.942506  "
      ]
     },
     "execution_count": 48,
     "metadata": {},
     "output_type": "execute_result"
    }
   ],
   "source": [
    "df.head()"
   ]
  },
  {
   "cell_type": "markdown",
   "id": "311da4bf",
   "metadata": {},
   "source": [
    "### Observation"
   ]
  },
  {
   "cell_type": "markdown",
   "id": "2b2bc3c7",
   "metadata": {},
   "source": [
    "- After normalizing we can compare this features against the performance of the model using the original features to determine which approach provides better results."
   ]
  },
  {
   "cell_type": "markdown",
   "id": "72a11049",
   "metadata": {},
   "source": [
    "### Business Insights"
   ]
  },
  {
   "cell_type": "markdown",
   "id": "f2c8fa8e",
   "metadata": {},
   "source": [
    "- The data in this dataset is not evenly distributed, with most of the observations being concentrated in one region.\n",
    "- There is a strong connection between the variables in the dataset, meaning that an increase in one variable is likely to result in an increase in another variable.\n",
    "- The majority of shipments are delivered via Full Truck Load (FTL).\n",
    "- The highest number of deliveries from source and destination states happen in Maharashtra, followed by Karnataka and Haryana.\n",
    "- Bengaluru, Gurgaon, and Mumbai have the highest number of deliveries from source and destination cities.\n",
    "- The average time for a delivery in this dataset is approximately 9 hours 6 minutes.\n",
    "- The actual time it takes to complete a delivery is not the same as the estimated time based on the OSRM algorithm.\n",
    "- The actual delivery time is also different from the estimated delivery time based on the segment actual time.\n",
    "- The actual delivery distance is different from both the estimated delivery distance based on the OSRM algorithm and the estimated delivery distance based on the segment OSRM distance."
   ]
  },
  {
   "cell_type": "markdown",
   "id": "dc09a358",
   "metadata": {},
   "source": [
    "### Recommendations"
   ]
  },
  {
   "cell_type": "markdown",
   "id": "1fd0473c",
   "metadata": {},
   "source": [
    "- Evaluate the reasons for the difference between the actual delivery time and the estimated delivery time using the OSRM algorithm, and consider ways to improve the accuracy of the algorithm.\n",
    "- Evaluate the possibility of expanding the service to new regions to increase the customer base.\n",
    "- Consider offering new services such as same-day delivery or express delivery to differentiate from competitors and attract customers.\n",
    "- Gather customer feedback and use it to improve the delivery service and meet customer needs.\n",
    "- Marketing and branding can help to increase awareness of the delivery service and attract new customers."
   ]
  }
 ],
 "metadata": {
  "kernelspec": {
   "display_name": "Python 3 (ipykernel)",
   "language": "python",
   "name": "python3"
  },
  "language_info": {
   "codemirror_mode": {
    "name": "ipython",
    "version": 3
   },
   "file_extension": ".py",
   "mimetype": "text/x-python",
   "name": "python",
   "nbconvert_exporter": "python",
   "pygments_lexer": "ipython3",
   "version": "3.9.12"
  }
 },
 "nbformat": 4,
 "nbformat_minor": 5
}
